{
 "cells": [
  {
   "cell_type": "markdown",
   "metadata": {
    "id": "oYVqHpHghxi1"
   },
   "source": [
    "# [과제 2] 회귀분석\n",
    "### - Ch 1, Ch 2를 토대로 자유롭게 회귀분석과 회귀진단을 진행해주세요.\n",
    "### - 주석으로 설명 및 근거 자세하게 달아주시면 감사하겠습니다. :)"
   ]
  },
  {
   "cell_type": "code",
   "execution_count": 112,
   "metadata": {
    "ExecuteTime": {
     "end_time": "2022-02-05T17:30:19.311494Z",
     "start_time": "2022-02-05T17:30:19.291970Z"
    },
    "id": "F0T3iPmPhxi_"
   },
   "outputs": [],
   "source": [
    "%matplotlib inline \n",
    "\n",
    "import pandas as pd\n",
    "import numpy as np\n",
    "import matplotlib.pyplot as plt\n",
    "import seaborn as sns\n",
    "\n",
    "import warnings\n",
    "warnings.filterwarnings(action='ignore')\n",
    "\n",
    "plt.style.use('seaborn')\n",
    "plt.rc('font', family='Malgun Gothic')\n",
    "plt.rc('axes', unicode_minus=False)"
   ]
  },
  {
   "cell_type": "markdown",
   "metadata": {
    "id": "P0uNO4d5hxjA"
   },
   "source": [
    "# Data "
   ]
  },
  {
   "cell_type": "markdown",
   "metadata": {
    "id": "3-xhqe55hxjB"
   },
   "source": [
    "데이터 출처 : https://www.kaggle.com/avikasliwal/used-cars-price-prediction "
   ]
  },
  {
   "cell_type": "markdown",
   "metadata": {
    "id": "NL9G4b7-hxjB"
   },
   "source": [
    "< y > \n",
    "* **Price** : The price of the used car in INR Lakhs.\n",
    "\n",
    "\n",
    "\n",
    "< X > \n",
    "* Name : The brand and model of the car\n",
    "* Location : The location in which the car is being sold or is available for purchase.\n",
    "* Year : The year or edition of the model.\n",
    "* Kilometers_Driven : The total kilometres driven in the car by the previous owner(s) in KM.\n",
    "* Fuel_Type : The type of fuel used by the car. (Petrol, Diesel, Electric, CNG, LPG)\n",
    "* Transmission : The type of transmission used by the car. (Automatic / Manual)\n",
    "* Owner_Type : Whether the ownership is Firsthand, Second hand or other.\n",
    "* Mileage : The standard mileage offered by the car company in kmpl or km/kg\n",
    "* Engine : The displacement volume of the engine in CC.\n",
    "* Power : The maximum power of the engine in bhp.\n",
    "* Seats : The number of seats in the car.\n",
    "* New_Price : The price of a new car of the same model."
   ]
  },
  {
   "cell_type": "code",
   "execution_count": 64,
   "metadata": {
    "ExecuteTime": {
     "end_time": "2022-02-05T17:04:31.472370Z",
     "start_time": "2022-02-05T17:04:31.432001Z"
    },
    "colab": {
     "base_uri": "https://localhost:8080/",
     "height": 407
    },
    "id": "4erq13F3hxjC",
    "outputId": "9d870503-1f14-40ab-fb6c-510abcdf231d"
   },
   "outputs": [
    {
     "data": {
      "text/html": [
       "<div>\n",
       "<style scoped>\n",
       "    .dataframe tbody tr th:only-of-type {\n",
       "        vertical-align: middle;\n",
       "    }\n",
       "\n",
       "    .dataframe tbody tr th {\n",
       "        vertical-align: top;\n",
       "    }\n",
       "\n",
       "    .dataframe thead th {\n",
       "        text-align: right;\n",
       "    }\n",
       "</style>\n",
       "<table border=\"1\" class=\"dataframe\">\n",
       "  <thead>\n",
       "    <tr style=\"text-align: right;\">\n",
       "      <th></th>\n",
       "      <th>Unnamed: 0</th>\n",
       "      <th>Name</th>\n",
       "      <th>Location</th>\n",
       "      <th>Year</th>\n",
       "      <th>Kilometers_Driven</th>\n",
       "      <th>Fuel_Type</th>\n",
       "      <th>Transmission</th>\n",
       "      <th>Owner_Type</th>\n",
       "      <th>Mileage</th>\n",
       "      <th>Engine</th>\n",
       "      <th>Power</th>\n",
       "      <th>Seats</th>\n",
       "      <th>New_Price</th>\n",
       "      <th>Price</th>\n",
       "    </tr>\n",
       "  </thead>\n",
       "  <tbody>\n",
       "    <tr>\n",
       "      <th>0</th>\n",
       "      <td>0</td>\n",
       "      <td>Maruti Wagon R LXI CNG</td>\n",
       "      <td>Mumbai</td>\n",
       "      <td>2010</td>\n",
       "      <td>72000</td>\n",
       "      <td>CNG</td>\n",
       "      <td>Manual</td>\n",
       "      <td>First</td>\n",
       "      <td>26.6 km/kg</td>\n",
       "      <td>998 CC</td>\n",
       "      <td>58.16 bhp</td>\n",
       "      <td>5.0</td>\n",
       "      <td>NaN</td>\n",
       "      <td>1.75</td>\n",
       "    </tr>\n",
       "    <tr>\n",
       "      <th>1</th>\n",
       "      <td>1</td>\n",
       "      <td>Hyundai Creta 1.6 CRDi SX Option</td>\n",
       "      <td>Pune</td>\n",
       "      <td>2015</td>\n",
       "      <td>41000</td>\n",
       "      <td>Diesel</td>\n",
       "      <td>Manual</td>\n",
       "      <td>First</td>\n",
       "      <td>19.67 kmpl</td>\n",
       "      <td>1582 CC</td>\n",
       "      <td>126.2 bhp</td>\n",
       "      <td>5.0</td>\n",
       "      <td>NaN</td>\n",
       "      <td>12.50</td>\n",
       "    </tr>\n",
       "    <tr>\n",
       "      <th>2</th>\n",
       "      <td>2</td>\n",
       "      <td>Honda Jazz V</td>\n",
       "      <td>Chennai</td>\n",
       "      <td>2011</td>\n",
       "      <td>46000</td>\n",
       "      <td>Petrol</td>\n",
       "      <td>Manual</td>\n",
       "      <td>First</td>\n",
       "      <td>18.2 kmpl</td>\n",
       "      <td>1199 CC</td>\n",
       "      <td>88.7 bhp</td>\n",
       "      <td>5.0</td>\n",
       "      <td>8.61 Lakh</td>\n",
       "      <td>4.50</td>\n",
       "    </tr>\n",
       "    <tr>\n",
       "      <th>3</th>\n",
       "      <td>3</td>\n",
       "      <td>Maruti Ertiga VDI</td>\n",
       "      <td>Chennai</td>\n",
       "      <td>2012</td>\n",
       "      <td>87000</td>\n",
       "      <td>Diesel</td>\n",
       "      <td>Manual</td>\n",
       "      <td>First</td>\n",
       "      <td>20.77 kmpl</td>\n",
       "      <td>1248 CC</td>\n",
       "      <td>88.76 bhp</td>\n",
       "      <td>7.0</td>\n",
       "      <td>NaN</td>\n",
       "      <td>6.00</td>\n",
       "    </tr>\n",
       "    <tr>\n",
       "      <th>4</th>\n",
       "      <td>4</td>\n",
       "      <td>Audi A4 New 2.0 TDI Multitronic</td>\n",
       "      <td>Coimbatore</td>\n",
       "      <td>2013</td>\n",
       "      <td>40670</td>\n",
       "      <td>Diesel</td>\n",
       "      <td>Automatic</td>\n",
       "      <td>Second</td>\n",
       "      <td>15.2 kmpl</td>\n",
       "      <td>1968 CC</td>\n",
       "      <td>140.8 bhp</td>\n",
       "      <td>5.0</td>\n",
       "      <td>NaN</td>\n",
       "      <td>17.74</td>\n",
       "    </tr>\n",
       "  </tbody>\n",
       "</table>\n",
       "</div>"
      ],
      "text/plain": [
       "   Unnamed: 0                              Name    Location  Year  \\\n",
       "0           0            Maruti Wagon R LXI CNG      Mumbai  2010   \n",
       "1           1  Hyundai Creta 1.6 CRDi SX Option        Pune  2015   \n",
       "2           2                      Honda Jazz V     Chennai  2011   \n",
       "3           3                 Maruti Ertiga VDI     Chennai  2012   \n",
       "4           4   Audi A4 New 2.0 TDI Multitronic  Coimbatore  2013   \n",
       "\n",
       "   Kilometers_Driven Fuel_Type Transmission Owner_Type     Mileage   Engine  \\\n",
       "0              72000       CNG       Manual      First  26.6 km/kg   998 CC   \n",
       "1              41000    Diesel       Manual      First  19.67 kmpl  1582 CC   \n",
       "2              46000    Petrol       Manual      First   18.2 kmpl  1199 CC   \n",
       "3              87000    Diesel       Manual      First  20.77 kmpl  1248 CC   \n",
       "4              40670    Diesel    Automatic     Second   15.2 kmpl  1968 CC   \n",
       "\n",
       "       Power  Seats  New_Price  Price  \n",
       "0  58.16 bhp    5.0        NaN   1.75  \n",
       "1  126.2 bhp    5.0        NaN  12.50  \n",
       "2   88.7 bhp    5.0  8.61 Lakh   4.50  \n",
       "3  88.76 bhp    7.0        NaN   6.00  \n",
       "4  140.8 bhp    5.0        NaN  17.74  "
      ]
     },
     "execution_count": 64,
     "metadata": {},
     "output_type": "execute_result"
    }
   ],
   "source": [
    "# Load Data \n",
    "org = pd.read_csv(\"assignment2_data.csv\")\n",
    "data = org.copy()\n",
    "\n",
    "data.head()\n",
    "\n",
    "# train - test 데이터는 분리 안할게요~"
   ]
  },
  {
   "cell_type": "code",
   "execution_count": 84,
   "metadata": {
    "ExecuteTime": {
     "end_time": "2022-02-05T17:15:21.974020Z",
     "start_time": "2022-02-05T17:15:21.951224Z"
    },
    "colab": {
     "base_uri": "https://localhost:8080/",
     "height": 385
    },
    "id": "YNDm_FaH_S7J",
    "outputId": "197c9e96-4f7e-4d38-a000-f223ce2c59b9"
   },
   "outputs": [
    {
     "name": "stdout",
     "output_type": "stream",
     "text": [
      "<class 'pandas.core.frame.DataFrame'>\n",
      "Int64Index: 5872 entries, 0 to 6018\n",
      "Data columns (total 10 columns):\n",
      " #   Column             Non-Null Count  Dtype  \n",
      "---  ------             --------------  -----  \n",
      " 0   Year               5872 non-null   int64  \n",
      " 1   Kilometers_Driven  5872 non-null   int64  \n",
      " 2   Fuel_Type          5872 non-null   object \n",
      " 3   Transmission       5872 non-null   object \n",
      " 4   Owner_Type         5872 non-null   object \n",
      " 5   Mileage            5872 non-null   float64\n",
      " 6   Engine             5872 non-null   float64\n",
      " 7   Power              5872 non-null   float64\n",
      " 8   Seats              5872 non-null   float64\n",
      " 9   Price              5872 non-null   float64\n",
      "dtypes: float64(5), int64(2), object(3)\n",
      "memory usage: 504.6+ KB\n"
     ]
    }
   ],
   "source": [
    "data.info()"
   ]
  },
  {
   "cell_type": "markdown",
   "metadata": {
    "id": "d-J1QpWR_WYh"
   },
   "source": [
    "# 데이터 전처리"
   ]
  },
  {
   "cell_type": "markdown",
   "metadata": {},
   "source": [
    "## 필요없는 특징 제거"
   ]
  },
  {
   "cell_type": "code",
   "execution_count": 66,
   "metadata": {
    "ExecuteTime": {
     "end_time": "2022-02-05T17:04:38.646940Z",
     "start_time": "2022-02-05T17:04:38.637468Z"
    }
   },
   "outputs": [],
   "source": [
    "data.drop(['Unnamed: 0','Name','Location','New_Price'],axis=1,inplace=True)"
   ]
  },
  {
   "cell_type": "markdown",
   "metadata": {},
   "source": [
    "인덱스와 이름, 지역과 같이 연관성이 낮은 핏쳐는 제거하였고  \n",
    "NEW PRICE와 같이 결측값이 많은 것에 대해서는 제거하였다."
   ]
  },
  {
   "cell_type": "markdown",
   "metadata": {},
   "source": [
    "## 결측치 제거"
   ]
  },
  {
   "cell_type": "code",
   "execution_count": 67,
   "metadata": {
    "ExecuteTime": {
     "end_time": "2022-02-05T17:04:41.100623Z",
     "start_time": "2022-02-05T17:04:41.070156Z"
    }
   },
   "outputs": [
    {
     "data": {
      "text/html": [
       "<div>\n",
       "<style scoped>\n",
       "    .dataframe tbody tr th:only-of-type {\n",
       "        vertical-align: middle;\n",
       "    }\n",
       "\n",
       "    .dataframe tbody tr th {\n",
       "        vertical-align: top;\n",
       "    }\n",
       "\n",
       "    .dataframe thead th {\n",
       "        text-align: right;\n",
       "    }\n",
       "</style>\n",
       "<table border=\"1\" class=\"dataframe\">\n",
       "  <thead>\n",
       "    <tr style=\"text-align: right;\">\n",
       "      <th></th>\n",
       "      <th>Year</th>\n",
       "      <th>Kilometers_Driven</th>\n",
       "      <th>Fuel_Type</th>\n",
       "      <th>Transmission</th>\n",
       "      <th>Owner_Type</th>\n",
       "      <th>Mileage</th>\n",
       "      <th>Engine</th>\n",
       "      <th>Power</th>\n",
       "      <th>Seats</th>\n",
       "      <th>Price</th>\n",
       "    </tr>\n",
       "  </thead>\n",
       "  <tbody>\n",
       "    <tr>\n",
       "      <th>0</th>\n",
       "      <td>2010</td>\n",
       "      <td>72000</td>\n",
       "      <td>CNG</td>\n",
       "      <td>Manual</td>\n",
       "      <td>First</td>\n",
       "      <td>26.6 km/kg</td>\n",
       "      <td>998 CC</td>\n",
       "      <td>58.16 bhp</td>\n",
       "      <td>5.0</td>\n",
       "      <td>1.75</td>\n",
       "    </tr>\n",
       "    <tr>\n",
       "      <th>1</th>\n",
       "      <td>2015</td>\n",
       "      <td>41000</td>\n",
       "      <td>Diesel</td>\n",
       "      <td>Manual</td>\n",
       "      <td>First</td>\n",
       "      <td>19.67 kmpl</td>\n",
       "      <td>1582 CC</td>\n",
       "      <td>126.2 bhp</td>\n",
       "      <td>5.0</td>\n",
       "      <td>12.50</td>\n",
       "    </tr>\n",
       "    <tr>\n",
       "      <th>2</th>\n",
       "      <td>2011</td>\n",
       "      <td>46000</td>\n",
       "      <td>Petrol</td>\n",
       "      <td>Manual</td>\n",
       "      <td>First</td>\n",
       "      <td>18.2 kmpl</td>\n",
       "      <td>1199 CC</td>\n",
       "      <td>88.7 bhp</td>\n",
       "      <td>5.0</td>\n",
       "      <td>4.50</td>\n",
       "    </tr>\n",
       "    <tr>\n",
       "      <th>3</th>\n",
       "      <td>2012</td>\n",
       "      <td>87000</td>\n",
       "      <td>Diesel</td>\n",
       "      <td>Manual</td>\n",
       "      <td>First</td>\n",
       "      <td>20.77 kmpl</td>\n",
       "      <td>1248 CC</td>\n",
       "      <td>88.76 bhp</td>\n",
       "      <td>7.0</td>\n",
       "      <td>6.00</td>\n",
       "    </tr>\n",
       "    <tr>\n",
       "      <th>4</th>\n",
       "      <td>2013</td>\n",
       "      <td>40670</td>\n",
       "      <td>Diesel</td>\n",
       "      <td>Automatic</td>\n",
       "      <td>Second</td>\n",
       "      <td>15.2 kmpl</td>\n",
       "      <td>1968 CC</td>\n",
       "      <td>140.8 bhp</td>\n",
       "      <td>5.0</td>\n",
       "      <td>17.74</td>\n",
       "    </tr>\n",
       "    <tr>\n",
       "      <th>...</th>\n",
       "      <td>...</td>\n",
       "      <td>...</td>\n",
       "      <td>...</td>\n",
       "      <td>...</td>\n",
       "      <td>...</td>\n",
       "      <td>...</td>\n",
       "      <td>...</td>\n",
       "      <td>...</td>\n",
       "      <td>...</td>\n",
       "      <td>...</td>\n",
       "    </tr>\n",
       "    <tr>\n",
       "      <th>6014</th>\n",
       "      <td>2014</td>\n",
       "      <td>27365</td>\n",
       "      <td>Diesel</td>\n",
       "      <td>Manual</td>\n",
       "      <td>First</td>\n",
       "      <td>28.4 kmpl</td>\n",
       "      <td>1248 CC</td>\n",
       "      <td>74 bhp</td>\n",
       "      <td>5.0</td>\n",
       "      <td>4.75</td>\n",
       "    </tr>\n",
       "    <tr>\n",
       "      <th>6015</th>\n",
       "      <td>2015</td>\n",
       "      <td>100000</td>\n",
       "      <td>Diesel</td>\n",
       "      <td>Manual</td>\n",
       "      <td>First</td>\n",
       "      <td>24.4 kmpl</td>\n",
       "      <td>1120 CC</td>\n",
       "      <td>71 bhp</td>\n",
       "      <td>5.0</td>\n",
       "      <td>4.00</td>\n",
       "    </tr>\n",
       "    <tr>\n",
       "      <th>6016</th>\n",
       "      <td>2012</td>\n",
       "      <td>55000</td>\n",
       "      <td>Diesel</td>\n",
       "      <td>Manual</td>\n",
       "      <td>Second</td>\n",
       "      <td>14.0 kmpl</td>\n",
       "      <td>2498 CC</td>\n",
       "      <td>112 bhp</td>\n",
       "      <td>8.0</td>\n",
       "      <td>2.90</td>\n",
       "    </tr>\n",
       "    <tr>\n",
       "      <th>6017</th>\n",
       "      <td>2013</td>\n",
       "      <td>46000</td>\n",
       "      <td>Petrol</td>\n",
       "      <td>Manual</td>\n",
       "      <td>First</td>\n",
       "      <td>18.9 kmpl</td>\n",
       "      <td>998 CC</td>\n",
       "      <td>67.1 bhp</td>\n",
       "      <td>5.0</td>\n",
       "      <td>2.65</td>\n",
       "    </tr>\n",
       "    <tr>\n",
       "      <th>6018</th>\n",
       "      <td>2011</td>\n",
       "      <td>47000</td>\n",
       "      <td>Diesel</td>\n",
       "      <td>Manual</td>\n",
       "      <td>First</td>\n",
       "      <td>25.44 kmpl</td>\n",
       "      <td>936 CC</td>\n",
       "      <td>57.6 bhp</td>\n",
       "      <td>5.0</td>\n",
       "      <td>2.50</td>\n",
       "    </tr>\n",
       "  </tbody>\n",
       "</table>\n",
       "<p>5975 rows × 10 columns</p>\n",
       "</div>"
      ],
      "text/plain": [
       "      Year  Kilometers_Driven Fuel_Type Transmission Owner_Type     Mileage  \\\n",
       "0     2010              72000       CNG       Manual      First  26.6 km/kg   \n",
       "1     2015              41000    Diesel       Manual      First  19.67 kmpl   \n",
       "2     2011              46000    Petrol       Manual      First   18.2 kmpl   \n",
       "3     2012              87000    Diesel       Manual      First  20.77 kmpl   \n",
       "4     2013              40670    Diesel    Automatic     Second   15.2 kmpl   \n",
       "...    ...                ...       ...          ...        ...         ...   \n",
       "6014  2014              27365    Diesel       Manual      First   28.4 kmpl   \n",
       "6015  2015             100000    Diesel       Manual      First   24.4 kmpl   \n",
       "6016  2012              55000    Diesel       Manual     Second   14.0 kmpl   \n",
       "6017  2013              46000    Petrol       Manual      First   18.9 kmpl   \n",
       "6018  2011              47000    Diesel       Manual      First  25.44 kmpl   \n",
       "\n",
       "       Engine      Power  Seats  Price  \n",
       "0      998 CC  58.16 bhp    5.0   1.75  \n",
       "1     1582 CC  126.2 bhp    5.0  12.50  \n",
       "2     1199 CC   88.7 bhp    5.0   4.50  \n",
       "3     1248 CC  88.76 bhp    7.0   6.00  \n",
       "4     1968 CC  140.8 bhp    5.0  17.74  \n",
       "...       ...        ...    ...    ...  \n",
       "6014  1248 CC     74 bhp    5.0   4.75  \n",
       "6015  1120 CC     71 bhp    5.0   4.00  \n",
       "6016  2498 CC    112 bhp    8.0   2.90  \n",
       "6017   998 CC   67.1 bhp    5.0   2.65  \n",
       "6018   936 CC   57.6 bhp    5.0   2.50  \n",
       "\n",
       "[5975 rows x 10 columns]"
      ]
     },
     "execution_count": 67,
     "metadata": {},
     "output_type": "execute_result"
    }
   ],
   "source": [
    "data=data.dropna()\n",
    "data"
   ]
  },
  {
   "cell_type": "markdown",
   "metadata": {},
   "source": [
    "## 단위수 제거하기"
   ]
  },
  {
   "cell_type": "code",
   "execution_count": 68,
   "metadata": {
    "ExecuteTime": {
     "end_time": "2022-02-05T17:04:43.525448Z",
     "start_time": "2022-02-05T17:04:43.501269Z"
    }
   },
   "outputs": [],
   "source": [
    "data['Mileage']= data['Mileage'].apply(lambda x : float(str(x).split(' ')[0]))\n",
    "data['Engine']= data['Engine'].apply(lambda x : float(str(x).split(' ')[0]))\n",
    "data['Power']= data['Power'].apply(lambda x : (str(x).split(' ')[0]))"
   ]
  },
  {
   "cell_type": "code",
   "execution_count": 69,
   "metadata": {
    "ExecuteTime": {
     "end_time": "2022-02-05T17:04:44.748573Z",
     "start_time": "2022-02-05T17:04:44.734059Z"
    }
   },
   "outputs": [
    {
     "data": {
      "text/plain": [
       "103"
      ]
     },
     "execution_count": 69,
     "metadata": {},
     "output_type": "execute_result"
    }
   ],
   "source": [
    "sum(data['Power']=='null') # 애초에 null 값으로 저장되어있는 데이터가 존재함"
   ]
  },
  {
   "cell_type": "code",
   "execution_count": 80,
   "metadata": {
    "ExecuteTime": {
     "end_time": "2022-02-05T17:13:59.943246Z",
     "start_time": "2022-02-05T17:13:59.924059Z"
    }
   },
   "outputs": [],
   "source": [
    "data.drop(data['Power'][data['Power']=='null'].index,inplace=True)"
   ]
  },
  {
   "cell_type": "code",
   "execution_count": 81,
   "metadata": {
    "ExecuteTime": {
     "end_time": "2022-02-05T17:14:01.762357Z",
     "start_time": "2022-02-05T17:14:01.752149Z"
    }
   },
   "outputs": [
    {
     "data": {
      "text/plain": [
       "0"
      ]
     },
     "execution_count": 81,
     "metadata": {},
     "output_type": "execute_result"
    }
   ],
   "source": [
    "sum(data['Power']=='null') # 애초에 null 값으로 저장되어있는 데이터가 존재함"
   ]
  },
  {
   "cell_type": "code",
   "execution_count": 83,
   "metadata": {
    "ExecuteTime": {
     "end_time": "2022-02-05T17:15:16.983461Z",
     "start_time": "2022-02-05T17:15:16.962427Z"
    }
   },
   "outputs": [],
   "source": [
    "data['Power']= data['Power'].apply(lambda x : float(x))"
   ]
  },
  {
   "cell_type": "markdown",
   "metadata": {},
   "source": [
    "## 원핫인코딩"
   ]
  },
  {
   "cell_type": "code",
   "execution_count": 87,
   "metadata": {
    "ExecuteTime": {
     "end_time": "2022-02-05T17:15:58.284376Z",
     "start_time": "2022-02-05T17:15:58.245672Z"
    }
   },
   "outputs": [
    {
     "data": {
      "text/html": [
       "<div>\n",
       "<style scoped>\n",
       "    .dataframe tbody tr th:only-of-type {\n",
       "        vertical-align: middle;\n",
       "    }\n",
       "\n",
       "    .dataframe tbody tr th {\n",
       "        vertical-align: top;\n",
       "    }\n",
       "\n",
       "    .dataframe thead th {\n",
       "        text-align: right;\n",
       "    }\n",
       "</style>\n",
       "<table border=\"1\" class=\"dataframe\">\n",
       "  <thead>\n",
       "    <tr style=\"text-align: right;\">\n",
       "      <th></th>\n",
       "      <th>Year</th>\n",
       "      <th>Kilometers_Driven</th>\n",
       "      <th>Mileage</th>\n",
       "      <th>Engine</th>\n",
       "      <th>Power</th>\n",
       "      <th>Seats</th>\n",
       "      <th>Price</th>\n",
       "      <th>Fuel_Type_CNG</th>\n",
       "      <th>Fuel_Type_Diesel</th>\n",
       "      <th>Fuel_Type_LPG</th>\n",
       "      <th>Fuel_Type_Petrol</th>\n",
       "      <th>Transmission_Automatic</th>\n",
       "      <th>Transmission_Manual</th>\n",
       "      <th>Owner_Type_First</th>\n",
       "      <th>Owner_Type_Fourth &amp; Above</th>\n",
       "      <th>Owner_Type_Second</th>\n",
       "      <th>Owner_Type_Third</th>\n",
       "    </tr>\n",
       "  </thead>\n",
       "  <tbody>\n",
       "    <tr>\n",
       "      <th>0</th>\n",
       "      <td>2010</td>\n",
       "      <td>72000</td>\n",
       "      <td>26.60</td>\n",
       "      <td>998.0</td>\n",
       "      <td>58.16</td>\n",
       "      <td>5.0</td>\n",
       "      <td>1.75</td>\n",
       "      <td>1</td>\n",
       "      <td>0</td>\n",
       "      <td>0</td>\n",
       "      <td>0</td>\n",
       "      <td>0</td>\n",
       "      <td>1</td>\n",
       "      <td>1</td>\n",
       "      <td>0</td>\n",
       "      <td>0</td>\n",
       "      <td>0</td>\n",
       "    </tr>\n",
       "    <tr>\n",
       "      <th>1</th>\n",
       "      <td>2015</td>\n",
       "      <td>41000</td>\n",
       "      <td>19.67</td>\n",
       "      <td>1582.0</td>\n",
       "      <td>126.20</td>\n",
       "      <td>5.0</td>\n",
       "      <td>12.50</td>\n",
       "      <td>0</td>\n",
       "      <td>1</td>\n",
       "      <td>0</td>\n",
       "      <td>0</td>\n",
       "      <td>0</td>\n",
       "      <td>1</td>\n",
       "      <td>1</td>\n",
       "      <td>0</td>\n",
       "      <td>0</td>\n",
       "      <td>0</td>\n",
       "    </tr>\n",
       "    <tr>\n",
       "      <th>2</th>\n",
       "      <td>2011</td>\n",
       "      <td>46000</td>\n",
       "      <td>18.20</td>\n",
       "      <td>1199.0</td>\n",
       "      <td>88.70</td>\n",
       "      <td>5.0</td>\n",
       "      <td>4.50</td>\n",
       "      <td>0</td>\n",
       "      <td>0</td>\n",
       "      <td>0</td>\n",
       "      <td>1</td>\n",
       "      <td>0</td>\n",
       "      <td>1</td>\n",
       "      <td>1</td>\n",
       "      <td>0</td>\n",
       "      <td>0</td>\n",
       "      <td>0</td>\n",
       "    </tr>\n",
       "    <tr>\n",
       "      <th>3</th>\n",
       "      <td>2012</td>\n",
       "      <td>87000</td>\n",
       "      <td>20.77</td>\n",
       "      <td>1248.0</td>\n",
       "      <td>88.76</td>\n",
       "      <td>7.0</td>\n",
       "      <td>6.00</td>\n",
       "      <td>0</td>\n",
       "      <td>1</td>\n",
       "      <td>0</td>\n",
       "      <td>0</td>\n",
       "      <td>0</td>\n",
       "      <td>1</td>\n",
       "      <td>1</td>\n",
       "      <td>0</td>\n",
       "      <td>0</td>\n",
       "      <td>0</td>\n",
       "    </tr>\n",
       "    <tr>\n",
       "      <th>4</th>\n",
       "      <td>2013</td>\n",
       "      <td>40670</td>\n",
       "      <td>15.20</td>\n",
       "      <td>1968.0</td>\n",
       "      <td>140.80</td>\n",
       "      <td>5.0</td>\n",
       "      <td>17.74</td>\n",
       "      <td>0</td>\n",
       "      <td>1</td>\n",
       "      <td>0</td>\n",
       "      <td>0</td>\n",
       "      <td>1</td>\n",
       "      <td>0</td>\n",
       "      <td>0</td>\n",
       "      <td>0</td>\n",
       "      <td>1</td>\n",
       "      <td>0</td>\n",
       "    </tr>\n",
       "    <tr>\n",
       "      <th>...</th>\n",
       "      <td>...</td>\n",
       "      <td>...</td>\n",
       "      <td>...</td>\n",
       "      <td>...</td>\n",
       "      <td>...</td>\n",
       "      <td>...</td>\n",
       "      <td>...</td>\n",
       "      <td>...</td>\n",
       "      <td>...</td>\n",
       "      <td>...</td>\n",
       "      <td>...</td>\n",
       "      <td>...</td>\n",
       "      <td>...</td>\n",
       "      <td>...</td>\n",
       "      <td>...</td>\n",
       "      <td>...</td>\n",
       "      <td>...</td>\n",
       "    </tr>\n",
       "    <tr>\n",
       "      <th>6014</th>\n",
       "      <td>2014</td>\n",
       "      <td>27365</td>\n",
       "      <td>28.40</td>\n",
       "      <td>1248.0</td>\n",
       "      <td>74.00</td>\n",
       "      <td>5.0</td>\n",
       "      <td>4.75</td>\n",
       "      <td>0</td>\n",
       "      <td>1</td>\n",
       "      <td>0</td>\n",
       "      <td>0</td>\n",
       "      <td>0</td>\n",
       "      <td>1</td>\n",
       "      <td>1</td>\n",
       "      <td>0</td>\n",
       "      <td>0</td>\n",
       "      <td>0</td>\n",
       "    </tr>\n",
       "    <tr>\n",
       "      <th>6015</th>\n",
       "      <td>2015</td>\n",
       "      <td>100000</td>\n",
       "      <td>24.40</td>\n",
       "      <td>1120.0</td>\n",
       "      <td>71.00</td>\n",
       "      <td>5.0</td>\n",
       "      <td>4.00</td>\n",
       "      <td>0</td>\n",
       "      <td>1</td>\n",
       "      <td>0</td>\n",
       "      <td>0</td>\n",
       "      <td>0</td>\n",
       "      <td>1</td>\n",
       "      <td>1</td>\n",
       "      <td>0</td>\n",
       "      <td>0</td>\n",
       "      <td>0</td>\n",
       "    </tr>\n",
       "    <tr>\n",
       "      <th>6016</th>\n",
       "      <td>2012</td>\n",
       "      <td>55000</td>\n",
       "      <td>14.00</td>\n",
       "      <td>2498.0</td>\n",
       "      <td>112.00</td>\n",
       "      <td>8.0</td>\n",
       "      <td>2.90</td>\n",
       "      <td>0</td>\n",
       "      <td>1</td>\n",
       "      <td>0</td>\n",
       "      <td>0</td>\n",
       "      <td>0</td>\n",
       "      <td>1</td>\n",
       "      <td>0</td>\n",
       "      <td>0</td>\n",
       "      <td>1</td>\n",
       "      <td>0</td>\n",
       "    </tr>\n",
       "    <tr>\n",
       "      <th>6017</th>\n",
       "      <td>2013</td>\n",
       "      <td>46000</td>\n",
       "      <td>18.90</td>\n",
       "      <td>998.0</td>\n",
       "      <td>67.10</td>\n",
       "      <td>5.0</td>\n",
       "      <td>2.65</td>\n",
       "      <td>0</td>\n",
       "      <td>0</td>\n",
       "      <td>0</td>\n",
       "      <td>1</td>\n",
       "      <td>0</td>\n",
       "      <td>1</td>\n",
       "      <td>1</td>\n",
       "      <td>0</td>\n",
       "      <td>0</td>\n",
       "      <td>0</td>\n",
       "    </tr>\n",
       "    <tr>\n",
       "      <th>6018</th>\n",
       "      <td>2011</td>\n",
       "      <td>47000</td>\n",
       "      <td>25.44</td>\n",
       "      <td>936.0</td>\n",
       "      <td>57.60</td>\n",
       "      <td>5.0</td>\n",
       "      <td>2.50</td>\n",
       "      <td>0</td>\n",
       "      <td>1</td>\n",
       "      <td>0</td>\n",
       "      <td>0</td>\n",
       "      <td>0</td>\n",
       "      <td>1</td>\n",
       "      <td>1</td>\n",
       "      <td>0</td>\n",
       "      <td>0</td>\n",
       "      <td>0</td>\n",
       "    </tr>\n",
       "  </tbody>\n",
       "</table>\n",
       "<p>5872 rows × 17 columns</p>\n",
       "</div>"
      ],
      "text/plain": [
       "      Year  Kilometers_Driven  Mileage  Engine   Power  Seats  Price  \\\n",
       "0     2010              72000    26.60   998.0   58.16    5.0   1.75   \n",
       "1     2015              41000    19.67  1582.0  126.20    5.0  12.50   \n",
       "2     2011              46000    18.20  1199.0   88.70    5.0   4.50   \n",
       "3     2012              87000    20.77  1248.0   88.76    7.0   6.00   \n",
       "4     2013              40670    15.20  1968.0  140.80    5.0  17.74   \n",
       "...    ...                ...      ...     ...     ...    ...    ...   \n",
       "6014  2014              27365    28.40  1248.0   74.00    5.0   4.75   \n",
       "6015  2015             100000    24.40  1120.0   71.00    5.0   4.00   \n",
       "6016  2012              55000    14.00  2498.0  112.00    8.0   2.90   \n",
       "6017  2013              46000    18.90   998.0   67.10    5.0   2.65   \n",
       "6018  2011              47000    25.44   936.0   57.60    5.0   2.50   \n",
       "\n",
       "      Fuel_Type_CNG  Fuel_Type_Diesel  Fuel_Type_LPG  Fuel_Type_Petrol  \\\n",
       "0                 1                 0              0                 0   \n",
       "1                 0                 1              0                 0   \n",
       "2                 0                 0              0                 1   \n",
       "3                 0                 1              0                 0   \n",
       "4                 0                 1              0                 0   \n",
       "...             ...               ...            ...               ...   \n",
       "6014              0                 1              0                 0   \n",
       "6015              0                 1              0                 0   \n",
       "6016              0                 1              0                 0   \n",
       "6017              0                 0              0                 1   \n",
       "6018              0                 1              0                 0   \n",
       "\n",
       "      Transmission_Automatic  Transmission_Manual  Owner_Type_First  \\\n",
       "0                          0                    1                 1   \n",
       "1                          0                    1                 1   \n",
       "2                          0                    1                 1   \n",
       "3                          0                    1                 1   \n",
       "4                          1                    0                 0   \n",
       "...                      ...                  ...               ...   \n",
       "6014                       0                    1                 1   \n",
       "6015                       0                    1                 1   \n",
       "6016                       0                    1                 0   \n",
       "6017                       0                    1                 1   \n",
       "6018                       0                    1                 1   \n",
       "\n",
       "      Owner_Type_Fourth & Above  Owner_Type_Second  Owner_Type_Third  \n",
       "0                             0                  0                 0  \n",
       "1                             0                  0                 0  \n",
       "2                             0                  0                 0  \n",
       "3                             0                  0                 0  \n",
       "4                             0                  1                 0  \n",
       "...                         ...                ...               ...  \n",
       "6014                          0                  0                 0  \n",
       "6015                          0                  0                 0  \n",
       "6016                          0                  1                 0  \n",
       "6017                          0                  0                 0  \n",
       "6018                          0                  0                 0  \n",
       "\n",
       "[5872 rows x 17 columns]"
      ]
     },
     "execution_count": 87,
     "metadata": {},
     "output_type": "execute_result"
    }
   ],
   "source": [
    "data = pd.get_dummies(data)\n",
    "data"
   ]
  },
  {
   "cell_type": "markdown",
   "metadata": {},
   "source": [
    "## 타겟분포 확인"
   ]
  },
  {
   "cell_type": "code",
   "execution_count": 88,
   "metadata": {
    "ExecuteTime": {
     "end_time": "2022-02-05T17:16:35.097542Z",
     "start_time": "2022-02-05T17:16:35.029317Z"
    }
   },
   "outputs": [
    {
     "data": {
      "text/html": [
       "<div>\n",
       "<style scoped>\n",
       "    .dataframe tbody tr th:only-of-type {\n",
       "        vertical-align: middle;\n",
       "    }\n",
       "\n",
       "    .dataframe tbody tr th {\n",
       "        vertical-align: top;\n",
       "    }\n",
       "\n",
       "    .dataframe thead th {\n",
       "        text-align: right;\n",
       "    }\n",
       "</style>\n",
       "<table border=\"1\" class=\"dataframe\">\n",
       "  <thead>\n",
       "    <tr style=\"text-align: right;\">\n",
       "      <th></th>\n",
       "      <th>Year</th>\n",
       "      <th>Kilometers_Driven</th>\n",
       "      <th>Mileage</th>\n",
       "      <th>Engine</th>\n",
       "      <th>Power</th>\n",
       "      <th>Seats</th>\n",
       "      <th>Price</th>\n",
       "      <th>Fuel_Type_CNG</th>\n",
       "      <th>Fuel_Type_Diesel</th>\n",
       "      <th>Fuel_Type_LPG</th>\n",
       "      <th>Fuel_Type_Petrol</th>\n",
       "      <th>Transmission_Automatic</th>\n",
       "      <th>Transmission_Manual</th>\n",
       "      <th>Owner_Type_First</th>\n",
       "      <th>Owner_Type_Fourth &amp; Above</th>\n",
       "      <th>Owner_Type_Second</th>\n",
       "      <th>Owner_Type_Third</th>\n",
       "    </tr>\n",
       "  </thead>\n",
       "  <tbody>\n",
       "    <tr>\n",
       "      <th>count</th>\n",
       "      <td>5872.000000</td>\n",
       "      <td>5.872000e+03</td>\n",
       "      <td>5872.000000</td>\n",
       "      <td>5872.000000</td>\n",
       "      <td>5872.000000</td>\n",
       "      <td>5872.000000</td>\n",
       "      <td>5872.000000</td>\n",
       "      <td>5872.000000</td>\n",
       "      <td>5872.000000</td>\n",
       "      <td>5872.000000</td>\n",
       "      <td>5872.000000</td>\n",
       "      <td>5872.000000</td>\n",
       "      <td>5872.000000</td>\n",
       "      <td>5872.000000</td>\n",
       "      <td>5872.000000</td>\n",
       "      <td>5872.000000</td>\n",
       "      <td>5872.000000</td>\n",
       "    </tr>\n",
       "    <tr>\n",
       "      <th>mean</th>\n",
       "      <td>2013.477691</td>\n",
       "      <td>5.831700e+04</td>\n",
       "      <td>18.277839</td>\n",
       "      <td>1625.745572</td>\n",
       "      <td>113.276894</td>\n",
       "      <td>5.283719</td>\n",
       "      <td>9.603919</td>\n",
       "      <td>0.009366</td>\n",
       "      <td>0.536785</td>\n",
       "      <td>0.001703</td>\n",
       "      <td>0.452146</td>\n",
       "      <td>0.289850</td>\n",
       "      <td>0.710150</td>\n",
       "      <td>0.824080</td>\n",
       "      <td>0.001192</td>\n",
       "      <td>0.157527</td>\n",
       "      <td>0.017200</td>\n",
       "    </tr>\n",
       "    <tr>\n",
       "      <th>std</th>\n",
       "      <td>3.164568</td>\n",
       "      <td>9.216941e+04</td>\n",
       "      <td>4.365657</td>\n",
       "      <td>601.641783</td>\n",
       "      <td>53.881892</td>\n",
       "      <td>0.805081</td>\n",
       "      <td>11.249453</td>\n",
       "      <td>0.096334</td>\n",
       "      <td>0.498688</td>\n",
       "      <td>0.041236</td>\n",
       "      <td>0.497747</td>\n",
       "      <td>0.453731</td>\n",
       "      <td>0.453731</td>\n",
       "      <td>0.380784</td>\n",
       "      <td>0.034509</td>\n",
       "      <td>0.364328</td>\n",
       "      <td>0.130028</td>\n",
       "    </tr>\n",
       "    <tr>\n",
       "      <th>min</th>\n",
       "      <td>1998.000000</td>\n",
       "      <td>1.710000e+02</td>\n",
       "      <td>0.000000</td>\n",
       "      <td>624.000000</td>\n",
       "      <td>34.200000</td>\n",
       "      <td>2.000000</td>\n",
       "      <td>0.440000</td>\n",
       "      <td>0.000000</td>\n",
       "      <td>0.000000</td>\n",
       "      <td>0.000000</td>\n",
       "      <td>0.000000</td>\n",
       "      <td>0.000000</td>\n",
       "      <td>0.000000</td>\n",
       "      <td>0.000000</td>\n",
       "      <td>0.000000</td>\n",
       "      <td>0.000000</td>\n",
       "      <td>0.000000</td>\n",
       "    </tr>\n",
       "    <tr>\n",
       "      <th>25%</th>\n",
       "      <td>2012.000000</td>\n",
       "      <td>3.342250e+04</td>\n",
       "      <td>15.260000</td>\n",
       "      <td>1198.000000</td>\n",
       "      <td>75.000000</td>\n",
       "      <td>5.000000</td>\n",
       "      <td>3.517500</td>\n",
       "      <td>0.000000</td>\n",
       "      <td>0.000000</td>\n",
       "      <td>0.000000</td>\n",
       "      <td>0.000000</td>\n",
       "      <td>0.000000</td>\n",
       "      <td>0.000000</td>\n",
       "      <td>1.000000</td>\n",
       "      <td>0.000000</td>\n",
       "      <td>0.000000</td>\n",
       "      <td>0.000000</td>\n",
       "    </tr>\n",
       "    <tr>\n",
       "      <th>50%</th>\n",
       "      <td>2014.000000</td>\n",
       "      <td>5.260900e+04</td>\n",
       "      <td>18.200000</td>\n",
       "      <td>1495.500000</td>\n",
       "      <td>97.700000</td>\n",
       "      <td>5.000000</td>\n",
       "      <td>5.750000</td>\n",
       "      <td>0.000000</td>\n",
       "      <td>1.000000</td>\n",
       "      <td>0.000000</td>\n",
       "      <td>0.000000</td>\n",
       "      <td>0.000000</td>\n",
       "      <td>1.000000</td>\n",
       "      <td>1.000000</td>\n",
       "      <td>0.000000</td>\n",
       "      <td>0.000000</td>\n",
       "      <td>0.000000</td>\n",
       "    </tr>\n",
       "    <tr>\n",
       "      <th>75%</th>\n",
       "      <td>2016.000000</td>\n",
       "      <td>7.240275e+04</td>\n",
       "      <td>21.100000</td>\n",
       "      <td>1991.000000</td>\n",
       "      <td>138.100000</td>\n",
       "      <td>5.000000</td>\n",
       "      <td>10.000000</td>\n",
       "      <td>0.000000</td>\n",
       "      <td>1.000000</td>\n",
       "      <td>0.000000</td>\n",
       "      <td>1.000000</td>\n",
       "      <td>1.000000</td>\n",
       "      <td>1.000000</td>\n",
       "      <td>1.000000</td>\n",
       "      <td>0.000000</td>\n",
       "      <td>0.000000</td>\n",
       "      <td>0.000000</td>\n",
       "    </tr>\n",
       "    <tr>\n",
       "      <th>max</th>\n",
       "      <td>2019.000000</td>\n",
       "      <td>6.500000e+06</td>\n",
       "      <td>33.540000</td>\n",
       "      <td>5998.000000</td>\n",
       "      <td>560.000000</td>\n",
       "      <td>10.000000</td>\n",
       "      <td>160.000000</td>\n",
       "      <td>1.000000</td>\n",
       "      <td>1.000000</td>\n",
       "      <td>1.000000</td>\n",
       "      <td>1.000000</td>\n",
       "      <td>1.000000</td>\n",
       "      <td>1.000000</td>\n",
       "      <td>1.000000</td>\n",
       "      <td>1.000000</td>\n",
       "      <td>1.000000</td>\n",
       "      <td>1.000000</td>\n",
       "    </tr>\n",
       "  </tbody>\n",
       "</table>\n",
       "</div>"
      ],
      "text/plain": [
       "              Year  Kilometers_Driven      Mileage       Engine        Power  \\\n",
       "count  5872.000000       5.872000e+03  5872.000000  5872.000000  5872.000000   \n",
       "mean   2013.477691       5.831700e+04    18.277839  1625.745572   113.276894   \n",
       "std       3.164568       9.216941e+04     4.365657   601.641783    53.881892   \n",
       "min    1998.000000       1.710000e+02     0.000000   624.000000    34.200000   \n",
       "25%    2012.000000       3.342250e+04    15.260000  1198.000000    75.000000   \n",
       "50%    2014.000000       5.260900e+04    18.200000  1495.500000    97.700000   \n",
       "75%    2016.000000       7.240275e+04    21.100000  1991.000000   138.100000   \n",
       "max    2019.000000       6.500000e+06    33.540000  5998.000000   560.000000   \n",
       "\n",
       "             Seats        Price  Fuel_Type_CNG  Fuel_Type_Diesel  \\\n",
       "count  5872.000000  5872.000000    5872.000000       5872.000000   \n",
       "mean      5.283719     9.603919       0.009366          0.536785   \n",
       "std       0.805081    11.249453       0.096334          0.498688   \n",
       "min       2.000000     0.440000       0.000000          0.000000   \n",
       "25%       5.000000     3.517500       0.000000          0.000000   \n",
       "50%       5.000000     5.750000       0.000000          1.000000   \n",
       "75%       5.000000    10.000000       0.000000          1.000000   \n",
       "max      10.000000   160.000000       1.000000          1.000000   \n",
       "\n",
       "       Fuel_Type_LPG  Fuel_Type_Petrol  Transmission_Automatic  \\\n",
       "count    5872.000000       5872.000000             5872.000000   \n",
       "mean        0.001703          0.452146                0.289850   \n",
       "std         0.041236          0.497747                0.453731   \n",
       "min         0.000000          0.000000                0.000000   \n",
       "25%         0.000000          0.000000                0.000000   \n",
       "50%         0.000000          0.000000                0.000000   \n",
       "75%         0.000000          1.000000                1.000000   \n",
       "max         1.000000          1.000000                1.000000   \n",
       "\n",
       "       Transmission_Manual  Owner_Type_First  Owner_Type_Fourth & Above  \\\n",
       "count          5872.000000       5872.000000                5872.000000   \n",
       "mean              0.710150          0.824080                   0.001192   \n",
       "std               0.453731          0.380784                   0.034509   \n",
       "min               0.000000          0.000000                   0.000000   \n",
       "25%               0.000000          1.000000                   0.000000   \n",
       "50%               1.000000          1.000000                   0.000000   \n",
       "75%               1.000000          1.000000                   0.000000   \n",
       "max               1.000000          1.000000                   1.000000   \n",
       "\n",
       "       Owner_Type_Second  Owner_Type_Third  \n",
       "count        5872.000000       5872.000000  \n",
       "mean            0.157527          0.017200  \n",
       "std             0.364328          0.130028  \n",
       "min             0.000000          0.000000  \n",
       "25%             0.000000          0.000000  \n",
       "50%             0.000000          0.000000  \n",
       "75%             0.000000          0.000000  \n",
       "max             1.000000          1.000000  "
      ]
     },
     "execution_count": 88,
     "metadata": {},
     "output_type": "execute_result"
    }
   ],
   "source": [
    "data.describe()"
   ]
  },
  {
   "cell_type": "code",
   "execution_count": 89,
   "metadata": {
    "ExecuteTime": {
     "end_time": "2022-02-05T17:16:56.066815Z",
     "start_time": "2022-02-05T17:16:55.602347Z"
    }
   },
   "outputs": [
    {
     "data": {
      "text/plain": [
       "<AxesSubplot:ylabel='Density'>"
      ]
     },
     "execution_count": 89,
     "metadata": {},
     "output_type": "execute_result"
    },
    {
     "data": {
      "image/png": "[encoded data removed]",
      "text/plain": [
       "<Figure size 864x288 with 2 Axes>"
      ]
     },
     "metadata": {
      "needs_background": "light"
     },
     "output_type": "display_data"
    }
   ],
   "source": [
    "figure, (ax1, ax2) = plt.subplots(ncols=2)\n",
    "figure.set_size_inches(12,4)\n",
    "\n",
    "sns.boxplot(data[\"Price\"], ax=ax1)\n",
    "sns.distplot(data[[\"Price\"]],ax=ax2)"
   ]
  },
  {
   "cell_type": "markdown",
   "metadata": {},
   "source": [
    "skewed 되있는 것같아서 로그를 씌워주었다."
   ]
  },
  {
   "cell_type": "code",
   "execution_count": 93,
   "metadata": {
    "ExecuteTime": {
     "end_time": "2022-02-05T17:19:58.553257Z",
     "start_time": "2022-02-05T17:19:58.111192Z"
    }
   },
   "outputs": [
    {
     "data": {
      "text/plain": [
       "<AxesSubplot:ylabel='Density'>"
      ]
     },
     "execution_count": 93,
     "metadata": {},
     "output_type": "execute_result"
    },
    {
     "data": {
      "image/png": "[encoded data removed]",
      "text/plain": [
       "<Figure size 864x288 with 2 Axes>"
      ]
     },
     "metadata": {
      "needs_background": "light"
     },
     "output_type": "display_data"
    }
   ],
   "source": [
    "data['Price']= data['Price'].apply(lambda x : np.log(x))\n",
    "\n",
    "figure, (ax1, ax2) = plt.subplots(ncols=2)\n",
    "figure.set_size_inches(12,4)\n",
    "\n",
    "sns.boxplot(data[\"Price\"], ax=ax1)\n",
    "sns.distplot(data[[\"Price\"]],ax=ax2)"
   ]
  },
  {
   "cell_type": "markdown",
   "metadata": {},
   "source": [
    "## 상관관계 확인"
   ]
  },
  {
   "cell_type": "code",
   "execution_count": 124,
   "metadata": {
    "ExecuteTime": {
     "end_time": "2022-02-05T17:36:11.906441Z",
     "start_time": "2022-02-05T17:36:10.057803Z"
    }
   },
   "outputs": [
    {
     "data": {
      "text/plain": [
       "<AxesSubplot:>"
      ]
     },
     "execution_count": 124,
     "metadata": {},
     "output_type": "execute_result"
    },
    {
     "data": {
      "image/png": "[encoded data removed]",
      "text/plain": [
       "<Figure size 864x576 with 2 Axes>"
      ]
     },
     "metadata": {},
     "output_type": "display_data"
    }
   ],
   "source": [
    "X = data.drop(['Price'], axis=1)\n",
    "y = data['Price']\n",
    "\n",
    "\n",
    "plt.figure(figsize=(12,8))\n",
    "sns.heatmap(data.corr(),cmap='coolwarm', annot=True)"
   ]
  },
  {
   "cell_type": "markdown",
   "metadata": {},
   "source": [
    "파워와 엔진이 높은 상관계수를 갖고있다."
   ]
  },
  {
   "cell_type": "code",
   "execution_count": 99,
   "metadata": {
    "ExecuteTime": {
     "end_time": "2022-02-05T17:24:25.228625Z",
     "start_time": "2022-02-05T17:24:25.034900Z"
    }
   },
   "outputs": [
    {
     "data": {
      "text/html": [
       "<div>\n",
       "<style scoped>\n",
       "    .dataframe tbody tr th:only-of-type {\n",
       "        vertical-align: middle;\n",
       "    }\n",
       "\n",
       "    .dataframe tbody tr th {\n",
       "        vertical-align: top;\n",
       "    }\n",
       "\n",
       "    .dataframe thead th {\n",
       "        text-align: right;\n",
       "    }\n",
       "</style>\n",
       "<table border=\"1\" class=\"dataframe\">\n",
       "  <thead>\n",
       "    <tr style=\"text-align: right;\">\n",
       "      <th></th>\n",
       "      <th>VIF Factor</th>\n",
       "      <th>features</th>\n",
       "    </tr>\n",
       "  </thead>\n",
       "  <tbody>\n",
       "    <tr>\n",
       "      <th>6</th>\n",
       "      <td>inf</td>\n",
       "      <td>Fuel_Type_CNG</td>\n",
       "    </tr>\n",
       "    <tr>\n",
       "      <th>7</th>\n",
       "      <td>inf</td>\n",
       "      <td>Fuel_Type_Diesel</td>\n",
       "    </tr>\n",
       "    <tr>\n",
       "      <th>8</th>\n",
       "      <td>inf</td>\n",
       "      <td>Fuel_Type_LPG</td>\n",
       "    </tr>\n",
       "    <tr>\n",
       "      <th>9</th>\n",
       "      <td>inf</td>\n",
       "      <td>Fuel_Type_Petrol</td>\n",
       "    </tr>\n",
       "    <tr>\n",
       "      <th>10</th>\n",
       "      <td>inf</td>\n",
       "      <td>Transmission_Automatic</td>\n",
       "    </tr>\n",
       "    <tr>\n",
       "      <th>11</th>\n",
       "      <td>inf</td>\n",
       "      <td>Transmission_Manual</td>\n",
       "    </tr>\n",
       "    <tr>\n",
       "      <th>12</th>\n",
       "      <td>inf</td>\n",
       "      <td>Owner_Type_First</td>\n",
       "    </tr>\n",
       "    <tr>\n",
       "      <th>13</th>\n",
       "      <td>inf</td>\n",
       "      <td>Owner_Type_Fourth &amp; Above</td>\n",
       "    </tr>\n",
       "    <tr>\n",
       "      <th>14</th>\n",
       "      <td>inf</td>\n",
       "      <td>Owner_Type_Second</td>\n",
       "    </tr>\n",
       "    <tr>\n",
       "      <th>15</th>\n",
       "      <td>inf</td>\n",
       "      <td>Owner_Type_Third</td>\n",
       "    </tr>\n",
       "    <tr>\n",
       "      <th>3</th>\n",
       "      <td>9.127355</td>\n",
       "      <td>Engine</td>\n",
       "    </tr>\n",
       "    <tr>\n",
       "      <th>4</th>\n",
       "      <td>6.865181</td>\n",
       "      <td>Power</td>\n",
       "    </tr>\n",
       "    <tr>\n",
       "      <th>2</th>\n",
       "      <td>2.966774</td>\n",
       "      <td>Mileage</td>\n",
       "    </tr>\n",
       "    <tr>\n",
       "      <th>5</th>\n",
       "      <td>1.865489</td>\n",
       "      <td>Seats</td>\n",
       "    </tr>\n",
       "    <tr>\n",
       "      <th>0</th>\n",
       "      <td>1.406950</td>\n",
       "      <td>Year</td>\n",
       "    </tr>\n",
       "    <tr>\n",
       "      <th>1</th>\n",
       "      <td>1.051976</td>\n",
       "      <td>Kilometers_Driven</td>\n",
       "    </tr>\n",
       "  </tbody>\n",
       "</table>\n",
       "</div>"
      ],
      "text/plain": [
       "    VIF Factor                   features\n",
       "6          inf              Fuel_Type_CNG\n",
       "7          inf           Fuel_Type_Diesel\n",
       "8          inf              Fuel_Type_LPG\n",
       "9          inf           Fuel_Type_Petrol\n",
       "10         inf     Transmission_Automatic\n",
       "11         inf        Transmission_Manual\n",
       "12         inf           Owner_Type_First\n",
       "13         inf  Owner_Type_Fourth & Above\n",
       "14         inf          Owner_Type_Second\n",
       "15         inf           Owner_Type_Third\n",
       "3     9.127355                     Engine\n",
       "4     6.865181                      Power\n",
       "2     2.966774                    Mileage\n",
       "5     1.865489                      Seats\n",
       "0     1.406950                       Year\n",
       "1     1.051976          Kilometers_Driven"
      ]
     },
     "execution_count": 99,
     "metadata": {},
     "output_type": "execute_result"
    }
   ],
   "source": [
    "# VIF check \n",
    "from statsmodels.stats.outliers_influence import variance_inflation_factor\n",
    "\n",
    "vif = pd.DataFrame()\n",
    "vif[\"VIF Factor\"] = [variance_inflation_factor(X.values, i) for i in range(X.shape[1])]\n",
    "vif[\"features\"] = X.columns\n",
    "vif.sort_values([\"VIF Factor\"], ascending=[False])"
   ]
  },
  {
   "cell_type": "markdown",
   "metadata": {
    "ExecuteTime": {
     "end_time": "2022-02-05T17:24:22.299206Z",
     "start_time": "2022-02-05T17:24:14.498227Z"
    }
   },
   "source": [
    "10이상의 제거해 줘야할 변수는 없어보인다 더미변수는 논외로 한다."
   ]
  },
  {
   "cell_type": "code",
   "execution_count": 101,
   "metadata": {
    "ExecuteTime": {
     "end_time": "2022-02-05T17:27:16.134656Z",
     "start_time": "2022-02-05T17:27:16.111977Z"
    }
   },
   "outputs": [
    {
     "data": {
      "text/plain": [
       "Price                        1.000000\n",
       "Power                        0.769614\n",
       "Engine                       0.688981\n",
       "Transmission_Automatic       0.618451\n",
       "Year                         0.486234\n",
       "Fuel_Type_Diesel             0.431574\n",
       "Owner_Type_First             0.170435\n",
       "Seats                        0.167716\n",
       "Owner_Type_Fourth & Above   -0.025580\n",
       "Kilometers_Driven           -0.042014\n",
       "Fuel_Type_LPG               -0.046319\n",
       "Fuel_Type_CNG               -0.072112\n",
       "Owner_Type_Third            -0.121836\n",
       "Owner_Type_Second           -0.132227\n",
       "Mileage                     -0.314463\n",
       "Fuel_Type_Petrol            -0.414595\n",
       "Transmission_Manual         -0.618451\n",
       "Name: Price, dtype: float64"
      ]
     },
     "execution_count": 101,
     "metadata": {},
     "output_type": "execute_result"
    }
   ],
   "source": [
    "data.corr()['Price'].sort_values(ascending=False)"
   ]
  },
  {
   "cell_type": "markdown",
   "metadata": {},
   "source": [
    "파워가 조금 높은 상관관계를 갖고있기는 하다"
   ]
  },
  {
   "cell_type": "markdown",
   "metadata": {},
   "source": [
    "# Modeling"
   ]
  },
  {
   "cell_type": "code",
   "execution_count": 102,
   "metadata": {
    "ExecuteTime": {
     "end_time": "2022-02-05T17:28:16.386958Z",
     "start_time": "2022-02-05T17:28:16.300403Z"
    }
   },
   "outputs": [],
   "source": [
    "from sklearn.model_selection import train_test_split\n",
    "\n",
    "from sklearn.linear_model import LinearRegression\n",
    "from sklearn.linear_model import Ridge, Lasso\n",
    "\n",
    "from sklearn.metrics import mean_squared_error"
   ]
  },
  {
   "cell_type": "code",
   "execution_count": 103,
   "metadata": {
    "ExecuteTime": {
     "end_time": "2022-02-05T17:28:36.474814Z",
     "start_time": "2022-02-05T17:28:36.465510Z"
    }
   },
   "outputs": [],
   "source": [
    "# train test split \n",
    "X_train, X_test, y_train, y_test = train_test_split(X, y, test_size=0.2, random_state=0)"
   ]
  },
  {
   "cell_type": "code",
   "execution_count": 104,
   "metadata": {
    "ExecuteTime": {
     "end_time": "2022-02-05T17:28:45.604687Z",
     "start_time": "2022-02-05T17:28:45.593669Z"
    }
   },
   "outputs": [
    {
     "data": {
      "text/plain": [
       "LinearRegression()"
      ]
     },
     "execution_count": 104,
     "metadata": {},
     "output_type": "execute_result"
    }
   ],
   "source": [
    "# 모델 불러옴\n",
    "model = LinearRegression()\n",
    "\n",
    "# train data에 fit시킴\n",
    "model.fit(X_train, y_train)"
   ]
  },
  {
   "cell_type": "code",
   "execution_count": 105,
   "metadata": {
    "ExecuteTime": {
     "end_time": "2022-02-05T17:28:53.509981Z",
     "start_time": "2022-02-05T17:28:53.504437Z"
    }
   },
   "outputs": [],
   "source": [
    "# predict\n",
    "pred = model.predict(X_train)"
   ]
  },
  {
   "cell_type": "code",
   "execution_count": 107,
   "metadata": {
    "ExecuteTime": {
     "end_time": "2022-02-05T17:29:14.283500Z",
     "start_time": "2022-02-05T17:29:14.268097Z"
    }
   },
   "outputs": [
    {
     "data": {
      "text/plain": [
       "0.8702126993552795"
      ]
     },
     "execution_count": 107,
     "metadata": {},
     "output_type": "execute_result"
    }
   ],
   "source": [
    "# fit된 모델의 R-square\n",
    "model.score(X_train, y_train)"
   ]
  },
  {
   "cell_type": "code",
   "execution_count": 108,
   "metadata": {
    "ExecuteTime": {
     "end_time": "2022-02-05T17:29:21.025603Z",
     "start_time": "2022-02-05T17:29:21.012492Z"
    }
   },
   "outputs": [
    {
     "data": {
      "text/plain": [
       "0.09642346043871144"
      ]
     },
     "execution_count": 108,
     "metadata": {},
     "output_type": "execute_result"
    }
   ],
   "source": [
    "mean_squared_error(y_train, pred)"
   ]
  },
  {
   "cell_type": "code",
   "execution_count": 109,
   "metadata": {
    "ExecuteTime": {
     "end_time": "2022-02-05T17:29:27.327695Z",
     "start_time": "2022-02-05T17:29:27.314856Z"
    }
   },
   "outputs": [
    {
     "name": "stdout",
     "output_type": "stream",
     "text": [
      "[ 1.25895812e-01 -4.38734710e-08 -2.05226481e-02  7.63442125e-05\n",
      "  7.93986446e-03  1.59086498e-02  4.76557455e-03  2.08334561e-01\n",
      " -8.31020877e-02 -1.29998048e-01  1.62816906e-01 -1.62816906e-01\n",
      "  2.59886109e-02  1.16165750e-01 -2.70087628e-02 -1.15145598e-01]\n",
      "-252.3733878923431\n"
     ]
    }
   ],
   "source": [
    "print(model.coef_) # 추정된 회귀계수 (intercept제외)\n",
    "print(model.intercept_) # intercept"
   ]
  },
  {
   "cell_type": "code",
   "execution_count": 110,
   "metadata": {
    "ExecuteTime": {
     "end_time": "2022-02-05T17:29:34.976256Z",
     "start_time": "2022-02-05T17:29:34.960883Z"
    }
   },
   "outputs": [
    {
     "data": {
      "text/plain": [
       "0.8803592051642686"
      ]
     },
     "execution_count": 110,
     "metadata": {},
     "output_type": "execute_result"
    }
   ],
   "source": [
    "# test data R-square\n",
    "model.score(X_test, y_test)"
   ]
  },
  {
   "cell_type": "markdown",
   "metadata": {},
   "source": [
    "train 값과 test 값이 거의 비슷하며 상당히 높은 점수가 나타났다.\n",
    "성능이 괜찮은 것같다."
   ]
  },
  {
   "cell_type": "markdown",
   "metadata": {},
   "source": [
    "# 회귀분석 가정검토"
   ]
  },
  {
   "cell_type": "code",
   "execution_count": 118,
   "metadata": {
    "ExecuteTime": {
     "end_time": "2022-02-05T17:34:10.100592Z",
     "start_time": "2022-02-05T17:33:52.310129Z"
    }
   },
   "outputs": [],
   "source": [
    "import scipy.stats\n",
    "import statsmodels.api as sm"
   ]
  },
  {
   "cell_type": "code",
   "execution_count": 125,
   "metadata": {
    "ExecuteTime": {
     "end_time": "2022-02-05T17:36:15.722301Z",
     "start_time": "2022-02-05T17:36:15.686877Z"
    }
   },
   "outputs": [
    {
     "name": "stdout",
     "output_type": "stream",
     "text": [
      "                            OLS Regression Results                            \n",
      "==============================================================================\n",
      "Dep. Variable:                  Price   R-squared:                       0.872\n",
      "Model:                            OLS   Adj. R-squared:                  0.872\n",
      "Method:                 Least Squares   F-statistic:                     3081.\n",
      "Date:                Sun, 06 Feb 2022   Prob (F-statistic):               0.00\n",
      "Time:                        02:36:15   Log-Likelihood:                -1428.1\n",
      "No. Observations:                5872   AIC:                             2884.\n",
      "Df Residuals:                    5858   BIC:                             2978.\n",
      "Df Model:                          13                                         \n",
      "Covariance Type:            nonrobust                                         \n",
      "=============================================================================================\n",
      "                                coef    std err          t      P>|t|      [0.025      0.975]\n",
      "---------------------------------------------------------------------------------------------\n",
      "Year                          0.1271      0.002     84.108      0.000       0.124       0.130\n",
      "Kilometers_Driven         -6.649e-08   4.49e-08     -1.482      0.138   -1.54e-07    2.15e-08\n",
      "Mileage                      -0.0214      0.002    -13.453      0.000      -0.025      -0.018\n",
      "Engine                      8.88e-05   2.02e-05      4.386      0.000    4.91e-05       0.000\n",
      "Power                         0.0078      0.000     39.832      0.000       0.007       0.008\n",
      "Seats                         0.0069      0.007      1.011      0.312      -0.006       0.020\n",
      "Fuel_Type_CNG               -63.7129      0.757    -84.147      0.000     -65.197     -62.229\n",
      "Fuel_Type_Diesel            -63.5027      0.757    -83.849      0.000     -64.987     -62.018\n",
      "Fuel_Type_LPG               -63.7002      0.758    -84.032      0.000     -65.186     -62.214\n",
      "Fuel_Type_Petrol            -63.8456      0.757    -84.288      0.000     -65.331     -62.361\n",
      "Transmission_Automatic     -127.2211      1.513    -84.086      0.000    -130.187    -124.255\n",
      "Transmission_Manual        -127.5402      1.511    -84.388      0.000    -130.503    -124.577\n",
      "Owner_Type_First            -63.6573      0.761    -83.669      0.000     -65.149     -62.166\n",
      "Owner_Type_Fourth & Above   -63.6001      0.759    -83.741      0.000     -65.089     -62.111\n",
      "Owner_Type_Second           -63.7132      0.758    -84.108      0.000     -65.198     -62.228\n",
      "Owner_Type_Third            -63.7908      0.754    -84.625      0.000     -65.269     -62.313\n",
      "==============================================================================\n",
      "Omnibus:                     1191.828   Durbin-Watson:                   1.985\n",
      "Prob(Omnibus):                  0.000   Jarque-Bera (JB):             9254.365\n",
      "Skew:                          -0.758   Prob(JB):                         0.00\n",
      "Kurtosis:                       8.960   Cond. No.                     3.65e+20\n",
      "==============================================================================\n",
      "\n",
      "Notes:\n",
      "[1] Standard Errors assume that the covariance matrix of the errors is correctly specified.\n",
      "[2] The smallest eigenvalue is 5.24e-28. This might indicate that there are\n",
      "strong multicollinearity problems or that the design matrix is singular.\n"
     ]
    }
   ],
   "source": [
    "model = sm.OLS(y, X)\n",
    "result = model.fit()\n",
    "print(result.summary())"
   ]
  },
  {
   "cell_type": "markdown",
   "metadata": {},
   "source": [
    "p-value가 seats가 높게 나타나고 있다. Kilometers_Driven 역시 0.138로 높게 나온다."
   ]
  },
  {
   "cell_type": "code",
   "execution_count": 141,
   "metadata": {
    "ExecuteTime": {
     "end_time": "2022-02-05T17:43:29.493779Z",
     "start_time": "2022-02-05T17:43:29.466354Z"
    }
   },
   "outputs": [
    {
     "name": "stdout",
     "output_type": "stream",
     "text": [
      "                            OLS Regression Results                            \n",
      "==============================================================================\n",
      "Dep. Variable:                      y   R-squared:                       0.003\n",
      "Model:                            OLS   Adj. R-squared:                  0.001\n",
      "Method:                 Least Squares   F-statistic:                     1.497\n",
      "Date:                Sun, 06 Feb 2022   Prob (F-statistic):              0.125\n",
      "Time:                        02:43:29   Log-Likelihood:                -8323.8\n",
      "No. Observations:                5872   AIC:                         1.667e+04\n",
      "Df Residuals:                    5860   BIC:                         1.675e+04\n",
      "Df Model:                          11                                         \n",
      "Covariance Type:            nonrobust                                         \n",
      "=============================================================================================\n",
      "                                coef    std err          t      P>|t|      [0.025      0.975]\n",
      "---------------------------------------------------------------------------------------------\n",
      "Year                          0.0006      0.005      0.136      0.892      -0.009       0.010\n",
      "Mileage                       0.0097      0.005      1.957      0.050   -1.92e-05       0.020\n",
      "Engine                        0.0001   5.96e-05      2.339      0.019    2.26e-05       0.000\n",
      "Power                        -0.0008      0.001     -1.307      0.191      -0.002       0.000\n",
      "Fuel_Type_CNG                -0.5472      2.384     -0.229      0.818      -5.221       4.127\n",
      "Fuel_Type_Diesel             -0.4043      2.385     -0.170      0.865      -5.079       4.271\n",
      "Fuel_Type_LPG                -0.6603      2.387     -0.277      0.782      -5.339       4.018\n",
      "Fuel_Type_Petrol             -0.3156      2.384     -0.132      0.895      -4.990       4.359\n",
      "Transmission_Automatic       -0.9826      4.763     -0.206      0.837     -10.320       8.354\n",
      "Transmission_Manual          -0.9448      4.758     -0.199      0.843     -10.273       8.384\n",
      "Owner_Type_First             -0.3036      2.396     -0.127      0.899      -5.001       4.394\n",
      "Owner_Type_Fourth & Above    -1.0000      2.392     -0.418      0.676      -5.689       3.689\n",
      "Owner_Type_Second            -0.2749      2.385     -0.115      0.908      -4.950       4.400\n",
      "Owner_Type_Third             -0.3489      2.373     -0.147      0.883      -5.001       4.303\n",
      "==============================================================================\n",
      "Omnibus:                     1160.568   Durbin-Watson:                   0.012\n",
      "Prob(Omnibus):                  0.000   Jarque-Bera (JB):             8688.485\n",
      "Skew:                          -0.743   Prob(JB):                         0.00\n",
      "Kurtosis:                       8.771   Cond. No.                     6.17e+18\n",
      "==============================================================================\n",
      "\n",
      "Notes:\n",
      "[1] Standard Errors assume that the covariance matrix of the errors is correctly specified.\n",
      "[2] The smallest eigenvalue is 1.06e-27. This might indicate that there are\n",
      "strong multicollinearity problems or that the design matrix is singular.\n"
     ]
    }
   ],
   "source": [
    "# p-value 값이 큰  변수 제거해보기 \n",
    "X2 = X.drop([\"Seats\",\"Kilometers_Driven\"], axis=1) #뭘 넣고빼봐도 성능은 나빠짐\n",
    "\n",
    "\n",
    "model = sm.OLS(y, X2)\n",
    "result = model.fit()\n",
    "print(result.summary())"
   ]
  },
  {
   "cell_type": "markdown",
   "metadata": {
    "ExecuteTime": {
     "end_time": "2022-02-05T17:43:03.084065Z",
     "start_time": "2022-02-05T17:43:03.070077Z"
    }
   },
   "source": [
    "상당히 결과값이 나빠짐을 확인할 수 있다. p-value가 높더라도 넣는 것이 좋아보인다."
   ]
  },
  {
   "cell_type": "code",
   "execution_count": 127,
   "metadata": {
    "ExecuteTime": {
     "end_time": "2022-02-05T17:36:58.250136Z",
     "start_time": "2022-02-05T17:36:57.964527Z"
    }
   },
   "outputs": [
    {
     "data": {
      "text/plain": [
       "[<matplotlib.lines.Line2D at 0x20e77edee50>]"
      ]
     },
     "execution_count": 127,
     "metadata": {},
     "output_type": "execute_result"
    },
    {
     "data": {
      "image/png": "[encoded data removed]",
      "text/plain": [
       "<Figure size 576x396 with 1 Axes>"
      ]
     },
     "metadata": {},
     "output_type": "display_data"
    }
   ],
   "source": [
    "# 모델을 통해 얻은 예측값 \n",
    "pred = result.predict()\n",
    "\n",
    "# 잔차 = 실제값 - 예측값 \n",
    "residual = data['Price'] - result.predict() \n",
    "\n",
    "sr = scipy.stats.zscore(residual)\n",
    "(x, y), _ = scipy.stats.probplot(sr)\n",
    "\n",
    "# 잔차의 정규성 \n",
    "sns.scatterplot(x, y)\n",
    "plt.plot([-3, 3], [-3, 3], '--', color='grey')"
   ]
  },
  {
   "cell_type": "markdown",
   "metadata": {
    "ExecuteTime": {
     "end_time": "2022-02-05T17:36:58.373959Z",
     "start_time": "2022-02-05T17:36:58.359360Z"
    }
   },
   "source": [
    "살작 어긋나 보인다."
   ]
  },
  {
   "cell_type": "code",
   "execution_count": 129,
   "metadata": {
    "ExecuteTime": {
     "end_time": "2022-02-05T17:37:24.978498Z",
     "start_time": "2022-02-05T17:37:20.227600Z"
    }
   },
   "outputs": [
    {
     "data": {
      "text/plain": [
       "<AxesSubplot:ylabel='Price'>"
      ]
     },
     "execution_count": 129,
     "metadata": {},
     "output_type": "execute_result"
    },
    {
     "data": {
      "image/png": "[encoded data removed]",
      "text/plain": [
       "<Figure size 576x396 with 1 Axes>"
      ]
     },
     "metadata": {},
     "output_type": "display_data"
    }
   ],
   "source": [
    "# 잔차의 등분산성 \n",
    "sns.regplot(pred, np.sqrt(np.abs(sr)), lowess=True, line_kws={'color': 'red'})"
   ]
  },
  {
   "cell_type": "markdown",
   "metadata": {},
   "source": [
    "이정도면 등분산성이 충분해보인다"
   ]
  },
  {
   "cell_type": "code",
   "execution_count": null,
   "metadata": {},
   "outputs": [],
   "source": []
  }
 ],
 "metadata": {
  "colab": {
   "collapsed_sections": [],
   "name": "Regression_과제2",
   "provenance": []
  },
  "kernelspec": {
   "display_name": "Python 3 (ipykernel)",
   "language": "python",
   "name": "python3"
  },
  "language_info": {
   "codemirror_mode": {
    "name": "ipython",
    "version": 3
   },
   "file_extension": ".py",
   "mimetype": "text/x-python",
   "name": "python",
   "nbconvert_exporter": "python",
   "pygments_lexer": "ipython3",
   "version": "3.8.11"
  },
  "toc": {
   "base_numbering": 1,
   "nav_menu": {},
   "number_sections": true,
   "sideBar": true,
   "skip_h1_title": false,
   "title_cell": "Table of Contents",
   "title_sidebar": "Contents",
   "toc_cell": false,
   "toc_position": {},
   "toc_section_display": true,
   "toc_window_display": false
  },
  "varInspector": {
   "cols": {
    "lenName": 16,
    "lenType": 16,
    "lenVar": 40
   },
   "kernels_config": {
    "python": {
     "delete_cmd_postfix": "",
     "delete_cmd_prefix": "del ",
     "library": "var_list.py",
     "varRefreshCmd": "print(var_dic_list())"
    },
    "r": {
     "delete_cmd_postfix": ") ",
     "delete_cmd_prefix": "rm(",
     "library": "var_list.r",
     "varRefreshCmd": "cat(var_dic_list()) "
    }
   },
   "types_to_exclude": [
    "module",
    "function",
    "builtin_function_or_method",
    "instance",
    "_Feature"
   ],
   "window_display": false
  }
 },
 "nbformat": 4,
 "nbformat_minor": 1
}
