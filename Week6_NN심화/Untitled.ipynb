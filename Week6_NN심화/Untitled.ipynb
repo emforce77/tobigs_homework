{
 "cells": [
  {
   "cell_type": "code",
   "execution_count": 7,
   "id": "857dc539",
   "metadata": {
    "ExecuteTime": {
     "end_time": "2022-03-05T07:29:25.476408Z",
     "start_time": "2022-03-05T07:29:25.468315Z"
    }
   },
   "outputs": [],
   "source": []
  },
  {
   "cell_type": "code",
   "execution_count": 1,
   "id": "da83e004",
   "metadata": {
    "ExecuteTime": {
     "end_time": "2022-03-05T07:28:18.534953Z",
     "start_time": "2022-03-05T07:27:38.863378Z"
    }
   },
   "outputs": [],
   "source": [
    "import numpy as np\n",
    "import pandas as pd\n",
    "import matplotlib.pyplot as plt\n",
    "\n",
    "import tensorflow as tf\n",
    "from tensorflow import keras\n",
    "\n",
    "import warnings\n",
    "warnings.filterwarnings(action='ignore')\n",
    "\n",
    "data_dir = 'Week6_NN심화_Assignment/'"
   ]
  },
  {
   "cell_type": "code",
   "execution_count": 2,
   "id": "650622dc",
   "metadata": {
    "ExecuteTime": {
     "end_time": "2022-03-05T07:28:32.753887Z",
     "start_time": "2022-03-05T07:28:28.555752Z"
    }
   },
   "outputs": [],
   "source": [
    "Train = pd.read_csv(data_dir + 'Train.csv')\n",
    "Test = pd.read_csv(data_dir + 'Test.csv')\n",
    "submission = pd.read_csv(data_dir + 'submission.csv')"
   ]
  },
  {
   "cell_type": "code",
   "execution_count": 3,
   "id": "eabe112d",
   "metadata": {
    "ExecuteTime": {
     "end_time": "2022-03-05T07:28:32.922705Z",
     "start_time": "2022-03-05T07:28:32.908499Z"
    }
   },
   "outputs": [],
   "source": [
    "X = Train.iloc[:, :-1].values\n",
    "X = X.reshape(-1, 28, 28, 1)\n",
    "y = Train.iloc[:, -1].values\n",
    "\n",
    "X_test = Test.values\n",
    "X_test = X_test.reshape(-1, 28, 28, 1)"
   ]
  },
  {
   "cell_type": "code",
   "execution_count": 4,
   "id": "eb549da9",
   "metadata": {
    "ExecuteTime": {
     "end_time": "2022-03-05T07:28:36.227433Z",
     "start_time": "2022-03-05T07:28:33.001962Z"
    }
   },
   "outputs": [],
   "source": [
    "from sklearn.model_selection import train_test_split\n",
    "\n",
    "X_train, X_val, y_train, y_val = train_test_split(X, y, test_size = 0.2, random_state = 16, stratify = y, shuffle = True)\n",
    "\n",
    "# 정규화\n",
    "X_train = X_train / 255.0\n",
    "X_val = X_val / 255.0\n",
    "X_test = X_test / 255.0"
   ]
  },
  {
   "cell_type": "code",
   "execution_count": 5,
   "id": "2e2504b5",
   "metadata": {
    "ExecuteTime": {
     "end_time": "2022-03-05T07:28:36.304848Z",
     "start_time": "2022-03-05T07:28:36.291544Z"
    }
   },
   "outputs": [],
   "source": [
    "BATCH_SIZE = 128\n",
    "EPOCHS = 30"
   ]
  },
  {
   "cell_type": "code",
   "execution_count": 49,
   "id": "585d1395",
   "metadata": {
    "ExecuteTime": {
     "end_time": "2022-03-04T15:42:12.311606Z",
     "start_time": "2022-03-04T15:42:12.229916Z"
    }
   },
   "outputs": [
    {
     "name": "stdout",
     "output_type": "stream",
     "text": [
      "Model: \"sequential_13\"\n",
      "_________________________________________________________________\n",
      "Layer (type)                 Output Shape              Param #   \n",
      "=================================================================\n",
      "flatten_7 (Flatten)          (None, 784)               0         \n",
      "_________________________________________________________________\n",
      "dense_26 (Dense)             (None, 512)               401920    \n",
      "_________________________________________________________________\n",
      "dense_27 (Dense)             (None, 512)               262656    \n",
      "_________________________________________________________________\n",
      "batch_normalization_12 (Batc (None, 512)               2048      \n",
      "_________________________________________________________________\n",
      "activation_12 (Activation)   (None, 512)               0         \n",
      "_________________________________________________________________\n",
      "dropout_15 (Dropout)         (None, 512)               0         \n",
      "_________________________________________________________________\n",
      "dense_28 (Dense)             (None, 256)               131328    \n",
      "_________________________________________________________________\n",
      "dense_29 (Dense)             (None, 256)               65792     \n",
      "_________________________________________________________________\n",
      "batch_normalization_13 (Batc (None, 256)               1024      \n",
      "_________________________________________________________________\n",
      "activation_13 (Activation)   (None, 256)               0         \n",
      "_________________________________________________________________\n",
      "dropout_16 (Dropout)         (None, 256)               0         \n",
      "_________________________________________________________________\n",
      "dense_30 (Dense)             (None, 128)               32896     \n",
      "_________________________________________________________________\n",
      "dense_31 (Dense)             (None, 128)               16512     \n",
      "_________________________________________________________________\n",
      "batch_normalization_14 (Batc (None, 128)               512       \n",
      "_________________________________________________________________\n",
      "activation_14 (Activation)   (None, 128)               0         \n",
      "_________________________________________________________________\n",
      "dropout_17 (Dropout)         (None, 128)               0         \n",
      "_________________________________________________________________\n",
      "dense_32 (Dense)             (None, 10)                1290      \n",
      "=================================================================\n",
      "Total params: 915,978\n",
      "Trainable params: 914,186\n",
      "Non-trainable params: 1,792\n",
      "_________________________________________________________________\n",
      "None\n"
     ]
    }
   ],
   "source": [
    "initializer = keras.initializers.HeUniform(seed = 21)\n",
    "model = keras.Sequential([\n",
    "    keras.layers.Flatten(input_shape=(28, 28)),\n",
    "    keras.layers.Dense(512, kernel_initializer=initializer),\n",
    "    keras.layers.Dense(512, kernel_initializer=initializer),\n",
    "    keras.layers.BatchNormalization(),\n",
    "    keras.layers.Activation('relu'),\n",
    "    keras.layers.Dropout(0.2),\n",
    "    keras.layers.Dense(256, kernel_initializer=initializer),\n",
    "    keras.layers.Dense(256, kernel_initializer=initializer),\n",
    "    keras.layers.BatchNormalization(),\n",
    "    keras.layers.Activation('relu'),\n",
    "    keras.layers.Dropout(0.2),\n",
    "    keras.layers.Dense(128, kernel_initializer=initializer),\n",
    "    keras.layers.Dense(128, kernel_initializer=initializer),\n",
    "    keras.layers.BatchNormalization(),\n",
    "    keras.layers.Activation('relu'),\n",
    "    keras.layers.Dropout(0.2),\n",
    "    keras.layers.Dense(10, activation='softmax', kernel_initializer=initializer)\n",
    "])\n",
    "\n",
    "print(model.summary())"
   ]
  },
  {
   "cell_type": "code",
   "execution_count": 10,
   "id": "158e71c8",
   "metadata": {
    "ExecuteTime": {
     "end_time": "2022-03-05T07:31:34.245314Z",
     "start_time": "2022-03-05T07:31:34.058176Z"
    }
   },
   "outputs": [
    {
     "name": "stdout",
     "output_type": "stream",
     "text": [
      "Model: \"sequential_2\"\n",
      "_________________________________________________________________\n",
      " Layer (type)                Output Shape              Param #   \n",
      "=================================================================\n",
      " conv2d_4 (Conv2D)           (None, 26, 26, 32)        320       \n",
      "                                                                 \n",
      " batch_normalization_8 (Batc  (None, 26, 26, 32)       128       \n",
      " hNormalization)                                                 \n",
      "                                                                 \n",
      " activation_8 (Activation)   (None, 26, 26, 32)        0         \n",
      "                                                                 \n",
      " dropout_6 (Dropout)         (None, 26, 26, 32)        0         \n",
      "                                                                 \n",
      " conv2d_5 (Conv2D)           (None, 24, 24, 64)        18496     \n",
      "                                                                 \n",
      " batch_normalization_9 (Batc  (None, 24, 24, 64)       256       \n",
      " hNormalization)                                                 \n",
      "                                                                 \n",
      " activation_9 (Activation)   (None, 24, 24, 64)        0         \n",
      "                                                                 \n",
      " dropout_7 (Dropout)         (None, 24, 24, 64)        0         \n",
      "                                                                 \n",
      " max_pooling2d_2 (MaxPooling  (None, 12, 12, 64)       0         \n",
      " 2D)                                                             \n",
      "                                                                 \n",
      " flatten_2 (Flatten)         (None, 9216)              0         \n",
      "                                                                 \n",
      " dense_6 (Dense)             (None, 128)               1179776   \n",
      "                                                                 \n",
      " batch_normalization_10 (Bat  (None, 128)              512       \n",
      " chNormalization)                                                \n",
      "                                                                 \n",
      " activation_10 (Activation)  (None, 128)               0         \n",
      "                                                                 \n",
      " dropout_8 (Dropout)         (None, 128)               0         \n",
      "                                                                 \n",
      " dense_7 (Dense)             (None, 64)                8256      \n",
      "                                                                 \n",
      " batch_normalization_11 (Bat  (None, 64)               256       \n",
      " chNormalization)                                                \n",
      "                                                                 \n",
      " activation_11 (Activation)  (None, 64)                0         \n",
      "                                                                 \n",
      " dense_8 (Dense)             (None, 10)                650       \n",
      "                                                                 \n",
      "=================================================================\n",
      "Total params: 1,208,650\n",
      "Trainable params: 1,208,074\n",
      "Non-trainable params: 576\n",
      "_________________________________________________________________\n",
      "None\n"
     ]
    }
   ],
   "source": [
    "'''\n",
    "model = keras.Sequential()\n",
    "model.add(keras.layers.Conv2D(32,kernel_size=(3,3),input_shape=(28,28,1),activation='relu'))\n",
    "model.add(keras.layers.Conv2D(64,(3,3),activation='relu'))\n",
    "model.add(keras.layers.MaxPooling2D(pool_size=2))\n",
    "model.add(keras.layers.Dropout(0.25))\n",
    "model.add(keras.layers.Flatten())\n",
    "model.add(keras.layers.Dense(128,activation='relu'))\n",
    "model.add(keras.layers.BatchNormalization())\n",
    "model.add(keras.layers.Dropout(0.5))\n",
    "model.add(keras.layers.Dense(10 ,activation='softmax'))\n",
    "'''\n",
    "\n",
    "    \n",
    "initializer = keras.initializers.HeUniform(seed = 21)\n",
    "model = keras.Sequential([\n",
    "\n",
    "    keras.layers.Conv2D(32,kernel_size=(3,3),input_shape=(28,28,1)),\n",
    "    keras.layers.BatchNormalization(),\n",
    "    keras.layers.Activation('relu'),\n",
    "    keras.layers.Dropout(0.2),\n",
    "\n",
    "    keras.layers.Conv2D(64,(3,3)),\n",
    "    keras.layers.BatchNormalization(),\n",
    "    keras.layers.Activation('relu'),\n",
    "    keras.layers.Dropout(0.2),\n",
    "\n",
    "    keras.layers.MaxPooling2D(pool_size=2),\n",
    "    keras.layers.Flatten(),\n",
    "\n",
    "    keras.layers.Dense(128, kernel_initializer=initializer),\n",
    "    keras.layers.BatchNormalization(),\n",
    "    keras.layers.Activation('relu'),\n",
    "    keras.layers.Dropout(0.1),\n",
    "\n",
    "    keras.layers.Dense(64, kernel_initializer=initializer),\n",
    "    keras.layers.BatchNormalization(),\n",
    "    keras.layers.Activation('relu'),\n",
    "\n",
    "    keras.layers.Dense(10, activation='softmax', kernel_initializer=initializer)\n",
    "])\n",
    "\n",
    "\n",
    "\n",
    "\n",
    "from keras.callbacks import ModelCheckpoint,EarlyStopping\n",
    "\n",
    "\n",
    "early_stoping_callback = EarlyStopping(monitor='val_loss',patience=5,\n",
    "                                      restore_best_weights=True)\n",
    "\n",
    "print(model.summary())"
   ]
  },
  {
   "cell_type": "code",
   "execution_count": 28,
   "id": "e97ad058",
   "metadata": {
    "ExecuteTime": {
     "end_time": "2022-03-05T08:09:30.554670Z",
     "start_time": "2022-03-05T08:09:30.544373Z"
    }
   },
   "outputs": [],
   "source": [
    "#from keras.utils import multi_gpu_utils\n",
    "\n",
    "\n",
    "optimizer = keras.optimizers.Adam(lr=0.01, decay = 0.001)\n",
    "\n",
    "#model = multi_gpu_utils.multi_gpu_model(model,gpus=2)\n",
    "\n",
    "\n",
    "model.compile(optimizer=optimizer,\n",
    "              loss=tf.keras.losses.SparseCategoricalCrossentropy(from_logits=True),\n",
    "              metrics=['accuracy'])\n"
   ]
  },
  {
   "cell_type": "code",
   "execution_count": 25,
   "id": "6b3cac28",
   "metadata": {
    "ExecuteTime": {
     "end_time": "2022-03-05T08:07:11.617089Z",
     "start_time": "2022-03-05T07:57:02.274837Z"
    }
   },
   "outputs": [
    {
     "name": "stdout",
     "output_type": "stream",
     "text": [
      "Epoch 1/30\n",
      "372/372 [==============================] - 66s 177ms/step - loss: 0.3824 - accuracy: 0.8588 - val_loss: 0.5578 - val_accuracy: 0.7811\n",
      "Epoch 2/30\n",
      "372/372 [==============================] - 66s 178ms/step - loss: 0.2711 - accuracy: 0.8987 - val_loss: 0.4370 - val_accuracy: 0.8429\n",
      "Epoch 3/30\n",
      "372/372 [==============================] - 67s 180ms/step - loss: 0.2207 - accuracy: 0.9180 - val_loss: 0.2561 - val_accuracy: 0.9044\n",
      "Epoch 4/30\n",
      "372/372 [==============================] - 62s 166ms/step - loss: 0.1865 - accuracy: 0.9298 - val_loss: 0.2587 - val_accuracy: 0.9084\n",
      "Epoch 5/30\n",
      "372/372 [==============================] - 58s 156ms/step - loss: 0.1602 - accuracy: 0.9410 - val_loss: 0.2195 - val_accuracy: 0.9210\n",
      "Epoch 6/30\n",
      "372/372 [==============================] - 59s 159ms/step - loss: 0.1339 - accuracy: 0.9496 - val_loss: 0.2223 - val_accuracy: 0.9214\n",
      "Epoch 7/30\n",
      "372/372 [==============================] - 58s 155ms/step - loss: 0.1136 - accuracy: 0.9584 - val_loss: 0.2294 - val_accuracy: 0.9221\n",
      "Epoch 8/30\n",
      "372/372 [==============================] - 57s 154ms/step - loss: 0.0941 - accuracy: 0.9653 - val_loss: 0.2257 - val_accuracy: 0.9254\n",
      "Epoch 9/30\n",
      "372/372 [==============================] - 57s 154ms/step - loss: 0.0818 - accuracy: 0.9696 - val_loss: 0.2392 - val_accuracy: 0.9250\n",
      "Epoch 10/30\n",
      "372/372 [==============================] - 59s 158ms/step - loss: 0.0666 - accuracy: 0.9756 - val_loss: 0.2637 - val_accuracy: 0.9218\n"
     ]
    }
   ],
   "source": [
    "result = model.fit(X_train, y_train, epochs=EPOCHS, \n",
    "                   validation_data = (X_val, y_val), batch_size=BATCH_SIZE,\n",
    "                  callbacks=[early_stoping_callback])"
   ]
  },
  {
   "cell_type": "code",
   "execution_count": 27,
   "id": "1ce4e2ef",
   "metadata": {
    "ExecuteTime": {
     "end_time": "2022-03-05T08:08:02.220489Z",
     "start_time": "2022-03-05T08:07:59.725258Z"
    }
   },
   "outputs": [
    {
     "data": {
      "text/html": [
       "<div>\n",
       "<style scoped>\n",
       "    .dataframe tbody tr th:only-of-type {\n",
       "        vertical-align: middle;\n",
       "    }\n",
       "\n",
       "    .dataframe tbody tr th {\n",
       "        vertical-align: top;\n",
       "    }\n",
       "\n",
       "    .dataframe thead th {\n",
       "        text-align: right;\n",
       "    }\n",
       "</style>\n",
       "<table border=\"1\" class=\"dataframe\">\n",
       "  <thead>\n",
       "    <tr style=\"text-align: right;\">\n",
       "      <th></th>\n",
       "      <th>id</th>\n",
       "      <th>label</th>\n",
       "    </tr>\n",
       "  </thead>\n",
       "  <tbody>\n",
       "    <tr>\n",
       "      <th>0</th>\n",
       "      <td>0</td>\n",
       "      <td>6</td>\n",
       "    </tr>\n",
       "    <tr>\n",
       "      <th>1</th>\n",
       "      <td>1</td>\n",
       "      <td>3</td>\n",
       "    </tr>\n",
       "    <tr>\n",
       "      <th>2</th>\n",
       "      <td>2</td>\n",
       "      <td>0</td>\n",
       "    </tr>\n",
       "    <tr>\n",
       "      <th>3</th>\n",
       "      <td>3</td>\n",
       "      <td>0</td>\n",
       "    </tr>\n",
       "    <tr>\n",
       "      <th>4</th>\n",
       "      <td>4</td>\n",
       "      <td>6</td>\n",
       "    </tr>\n",
       "  </tbody>\n",
       "</table>\n",
       "</div>"
      ],
      "text/plain": [
       "   id  label\n",
       "0   0      6\n",
       "1   1      3\n",
       "2   2      0\n",
       "3   3      0\n",
       "4   4      6"
      ]
     },
     "execution_count": 27,
     "metadata": {},
     "output_type": "execute_result"
    }
   ],
   "source": [
    "pred_label = np.argmax(model.predict(X_test), axis = 1)\n",
    "\n",
    "submission['label'] = pred_label\n",
    "\n",
    "submission.to_csv(data_dir + 'submission.csv', index = False)\n",
    "\n",
    "submission.head()"
   ]
  },
  {
   "cell_type": "code",
   "execution_count": null,
   "id": "57f0ae86",
   "metadata": {
    "ExecuteTime": {
     "end_time": "2022-03-04T18:37:37.286123Z",
     "start_time": "2022-03-04T18:36:51.201188Z"
    }
   },
   "outputs": [],
   "source": []
  },
  {
   "cell_type": "code",
   "execution_count": null,
   "id": "4d7526d7",
   "metadata": {},
   "outputs": [],
   "source": []
  }
 ],
 "metadata": {
  "kernelspec": {
   "display_name": "Python 3 (ipykernel)",
   "language": "python",
   "name": "python3"
  },
  "language_info": {
   "codemirror_mode": {
    "name": "ipython",
    "version": 3
   },
   "file_extension": ".py",
   "mimetype": "text/x-python",
   "name": "python",
   "nbconvert_exporter": "python",
   "pygments_lexer": "ipython3",
   "version": "3.8.11"
  },
  "toc": {
   "base_numbering": 1,
   "nav_menu": {},
   "number_sections": true,
   "sideBar": true,
   "skip_h1_title": false,
   "title_cell": "Table of Contents",
   "title_sidebar": "Contents",
   "toc_cell": false,
   "toc_position": {},
   "toc_section_display": true,
   "toc_window_display": false
  },
  "varInspector": {
   "cols": {
    "lenName": 16,
    "lenType": 16,
    "lenVar": 40
   },
   "kernels_config": {
    "python": {
     "delete_cmd_postfix": "",
     "delete_cmd_prefix": "del ",
     "library": "var_list.py",
     "varRefreshCmd": "print(var_dic_list())"
    },
    "r": {
     "delete_cmd_postfix": ") ",
     "delete_cmd_prefix": "rm(",
     "library": "var_list.r",
     "varRefreshCmd": "cat(var_dic_list()) "
    }
   },
   "types_to_exclude": [
    "module",
    "function",
    "builtin_function_or_method",
    "instance",
    "_Feature"
   ],
   "window_display": false
  }
 },
 "nbformat": 4,
 "nbformat_minor": 5
}
