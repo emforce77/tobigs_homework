{
 "cells": [
  {
   "cell_type": "markdown",
   "id": "d25102f1",
   "metadata": {},
   "source": [
    "# 포트폴리오 만들기"
   ]
  },
  {
   "cell_type": "code",
   "execution_count": 1,
   "id": "f02287fa",
   "metadata": {
    "ExecuteTime": {
     "end_time": "2022-04-28T13:55:49.223899Z",
     "start_time": "2022-04-28T13:55:46.763660Z"
    }
   },
   "outputs": [],
   "source": [
    "import numpy as np\n",
    "import pandas as pd\n",
    "import matplotlib.pyplot as plt\n",
    "from pykrx import stock"
   ]
  },
  {
   "cell_type": "code",
   "execution_count": 3,
   "id": "dd4e48d9",
   "metadata": {
    "ExecuteTime": {
     "end_time": "2022-04-28T13:55:53.307337Z",
     "start_time": "2022-04-28T13:55:53.299296Z"
    }
   },
   "outputs": [],
   "source": [
    "#삼성전자, SK하이닉스,  삼성바이오로직스, NAVER, 현대차\n",
    "stocks = ['005930', '000660', '207940', '035420','005380']"
   ]
  },
  {
   "cell_type": "code",
   "execution_count": 4,
   "id": "97999790",
   "metadata": {
    "ExecuteTime": {
     "end_time": "2022-04-28T13:55:53.802467Z",
     "start_time": "2022-04-28T13:55:53.401888Z"
    }
   },
   "outputs": [],
   "source": [
    "df = pd.DataFrame()\n",
    "for s in stocks: \n",
    "    df[s] = stock.get_market_ohlcv_by_date(\"20170101\", \"20211231\", s)['종가'] #약 5년간데이터\n",
    "df.columns = ['삼성전자', 'SK하이닉스',  '삼성바이오로직스', 'NAVER','현대차']"
   ]
  },
  {
   "cell_type": "code",
   "execution_count": 5,
   "id": "54d46c12",
   "metadata": {
    "ExecuteTime": {
     "end_time": "2022-04-28T13:55:53.972130Z",
     "start_time": "2022-04-28T13:55:53.950788Z"
    }
   },
   "outputs": [
    {
     "data": {
      "text/html": [
       "<div>\n",
       "<style scoped>\n",
       "    .dataframe tbody tr th:only-of-type {\n",
       "        vertical-align: middle;\n",
       "    }\n",
       "\n",
       "    .dataframe tbody tr th {\n",
       "        vertical-align: top;\n",
       "    }\n",
       "\n",
       "    .dataframe thead th {\n",
       "        text-align: right;\n",
       "    }\n",
       "</style>\n",
       "<table border=\"1\" class=\"dataframe\">\n",
       "  <thead>\n",
       "    <tr style=\"text-align: right;\">\n",
       "      <th></th>\n",
       "      <th>삼성전자</th>\n",
       "      <th>SK하이닉스</th>\n",
       "      <th>삼성바이오로직스</th>\n",
       "      <th>NAVER</th>\n",
       "      <th>현대차</th>\n",
       "    </tr>\n",
       "    <tr>\n",
       "      <th>날짜</th>\n",
       "      <th></th>\n",
       "      <th></th>\n",
       "      <th></th>\n",
       "      <th></th>\n",
       "      <th></th>\n",
       "    </tr>\n",
       "  </thead>\n",
       "  <tbody>\n",
       "    <tr>\n",
       "      <th>2017-01-02</th>\n",
       "      <td>36100</td>\n",
       "      <td>45800</td>\n",
       "      <td>154668</td>\n",
       "      <td>155620</td>\n",
       "      <td>150000</td>\n",
       "    </tr>\n",
       "    <tr>\n",
       "      <th>2017-01-03</th>\n",
       "      <td>36480</td>\n",
       "      <td>47250</td>\n",
       "      <td>156151</td>\n",
       "      <td>153617</td>\n",
       "      <td>153000</td>\n",
       "    </tr>\n",
       "    <tr>\n",
       "      <th>2017-01-04</th>\n",
       "      <td>36160</td>\n",
       "      <td>46500</td>\n",
       "      <td>152692</td>\n",
       "      <td>162230</td>\n",
       "      <td>154000</td>\n",
       "    </tr>\n",
       "    <tr>\n",
       "      <th>2017-01-05</th>\n",
       "      <td>35560</td>\n",
       "      <td>46950</td>\n",
       "      <td>155657</td>\n",
       "      <td>158424</td>\n",
       "      <td>153500</td>\n",
       "    </tr>\n",
       "    <tr>\n",
       "      <th>2017-01-06</th>\n",
       "      <td>36200</td>\n",
       "      <td>48000</td>\n",
       "      <td>155657</td>\n",
       "      <td>160026</td>\n",
       "      <td>151000</td>\n",
       "    </tr>\n",
       "    <tr>\n",
       "      <th>...</th>\n",
       "      <td>...</td>\n",
       "      <td>...</td>\n",
       "      <td>...</td>\n",
       "      <td>...</td>\n",
       "      <td>...</td>\n",
       "    </tr>\n",
       "    <tr>\n",
       "      <th>2021-12-24</th>\n",
       "      <td>80500</td>\n",
       "      <td>128000</td>\n",
       "      <td>874642</td>\n",
       "      <td>384000</td>\n",
       "      <td>215500</td>\n",
       "    </tr>\n",
       "    <tr>\n",
       "      <th>2021-12-27</th>\n",
       "      <td>80200</td>\n",
       "      <td>126000</td>\n",
       "      <td>875631</td>\n",
       "      <td>380500</td>\n",
       "      <td>213500</td>\n",
       "    </tr>\n",
       "    <tr>\n",
       "      <th>2021-12-28</th>\n",
       "      <td>80300</td>\n",
       "      <td>127500</td>\n",
       "      <td>880572</td>\n",
       "      <td>384500</td>\n",
       "      <td>214000</td>\n",
       "    </tr>\n",
       "    <tr>\n",
       "      <th>2021-12-29</th>\n",
       "      <td>78800</td>\n",
       "      <td>127000</td>\n",
       "      <td>879584</td>\n",
       "      <td>382000</td>\n",
       "      <td>212000</td>\n",
       "    </tr>\n",
       "    <tr>\n",
       "      <th>2021-12-30</th>\n",
       "      <td>78300</td>\n",
       "      <td>131000</td>\n",
       "      <td>892432</td>\n",
       "      <td>378500</td>\n",
       "      <td>209000</td>\n",
       "    </tr>\n",
       "  </tbody>\n",
       "</table>\n",
       "<p>1229 rows × 5 columns</p>\n",
       "</div>"
      ],
      "text/plain": [
       "             삼성전자  SK하이닉스  삼성바이오로직스   NAVER     현대차\n",
       "날짜                                                 \n",
       "2017-01-02  36100   45800    154668  155620  150000\n",
       "2017-01-03  36480   47250    156151  153617  153000\n",
       "2017-01-04  36160   46500    152692  162230  154000\n",
       "2017-01-05  35560   46950    155657  158424  153500\n",
       "2017-01-06  36200   48000    155657  160026  151000\n",
       "...           ...     ...       ...     ...     ...\n",
       "2021-12-24  80500  128000    874642  384000  215500\n",
       "2021-12-27  80200  126000    875631  380500  213500\n",
       "2021-12-28  80300  127500    880572  384500  214000\n",
       "2021-12-29  78800  127000    879584  382000  212000\n",
       "2021-12-30  78300  131000    892432  378500  209000\n",
       "\n",
       "[1229 rows x 5 columns]"
      ]
     },
     "execution_count": 5,
     "metadata": {},
     "output_type": "execute_result"
    }
   ],
   "source": [
    "df"
   ]
  },
  {
   "cell_type": "code",
   "execution_count": 6,
   "id": "5653619d",
   "metadata": {
    "ExecuteTime": {
     "end_time": "2022-04-28T13:55:54.392722Z",
     "start_time": "2022-04-28T13:55:54.381759Z"
    }
   },
   "outputs": [],
   "source": [
    "daily_ret = np.log(df/df.shift(1))        #일간수익률\n",
    "annual_ret = daily_ret.mean() * 252 #연간수익률 #252는 주식시장이 여는 총 252일을 뜻한다.\n",
    "daily_cov = daily_ret.cov()         #일간변동률의 공분산\n",
    "annual_cov = daily_cov * 252        #연간공분산"
   ]
  },
  {
   "cell_type": "code",
   "execution_count": 7,
   "id": "e52733a2",
   "metadata": {
    "ExecuteTime": {
     "end_time": "2022-04-28T13:55:55.639642Z",
     "start_time": "2022-04-28T13:55:55.623658Z"
    }
   },
   "outputs": [
    {
     "data": {
      "text/plain": [
       "삼성전자        0.158886\n",
       "SK하이닉스      0.215660\n",
       "삼성바이오로직스    0.359668\n",
       "NAVER       0.182392\n",
       "현대차         0.068069\n",
       "dtype: float64"
      ]
     },
     "execution_count": 7,
     "metadata": {},
     "output_type": "execute_result"
    }
   ],
   "source": [
    "annual_ret"
   ]
  },
  {
   "cell_type": "markdown",
   "id": "96b0f501",
   "metadata": {},
   "source": [
    "## 몬테카를로 시뮬레이션"
   ]
  },
  {
   "cell_type": "code",
   "execution_count": 8,
   "id": "b6ed6646",
   "metadata": {
    "ExecuteTime": {
     "end_time": "2022-04-28T13:55:59.218859Z",
     "start_time": "2022-04-28T13:55:58.059369Z"
    }
   },
   "outputs": [
    {
     "name": "stdout",
     "output_type": "stream",
     "text": [
      "[0.32685126 0.06778197 0.01858986 0.12225089 0.46452601]\n",
      "[0.02990582 0.4055645  0.42886362 0.05227971 0.08338636]\n",
      "[0.46585324 0.13186356 0.3007545  0.01258846 0.08894023]\n",
      "[0.2292989  0.19671918 0.2063816  0.19599907 0.17160126]\n",
      "[0.31838966 0.15558456 0.08297195 0.14912576 0.29392807]\n"
     ]
    }
   ],
   "source": [
    "port_ret = []\n",
    "port_risk = []\n",
    "port_weights = []\n",
    "sharpe_ratio = []\n",
    "\n",
    "for _ in range(20000): #총 2만회 반복\n",
    "    weights = np.random.random(len(stocks)) #각 주식당 0~1사이의 가중치(W)를 랜덤하게 배정\n",
    "    weights /= np.sum(weights) \n",
    "    \n",
    "    if _ < 5 :\n",
    "        print(weights)\n",
    "    \n",
    "    #log(1.02)*5 연 2%정기예금을 무위험수익으로 생각 : 0.043\n",
    "    \n",
    "    returns = np.dot(weights, annual_ret)-0.043 #개별 주식의 연간수익률과 가중치를 점곱 == 수익률\n",
    "    risk = np.sqrt(np.dot(weights.T, np.dot(annual_cov, weights))) #리스크 == wCw 형태\n",
    "    \n",
    "    sharpe = returns / risk #샤프ratio\n",
    "    \n",
    "    port_ret.append(returns) #각 가중치당 포트폴리오의 리턴\n",
    "    port_risk.append(risk)   #각 가중치당 포트폴리오의 리스크\n",
    "    port_weights.append(weights)\n",
    "    sharpe_ratio.append(returns/risk) #각 가중치당 포트폴리오의 샤프지수\n"
   ]
  },
  {
   "cell_type": "code",
   "execution_count": 9,
   "id": "9f174098",
   "metadata": {
    "ExecuteTime": {
     "end_time": "2022-04-28T13:56:07.127196Z",
     "start_time": "2022-04-28T13:56:07.036836Z"
    }
   },
   "outputs": [
    {
     "data": {
      "text/html": [
       "<div>\n",
       "<style scoped>\n",
       "    .dataframe tbody tr th:only-of-type {\n",
       "        vertical-align: middle;\n",
       "    }\n",
       "\n",
       "    .dataframe tbody tr th {\n",
       "        vertical-align: top;\n",
       "    }\n",
       "\n",
       "    .dataframe thead th {\n",
       "        text-align: right;\n",
       "    }\n",
       "</style>\n",
       "<table border=\"1\" class=\"dataframe\">\n",
       "  <thead>\n",
       "    <tr style=\"text-align: right;\">\n",
       "      <th></th>\n",
       "      <th>Returns</th>\n",
       "      <th>Risk</th>\n",
       "      <th>Sharpe</th>\n",
       "      <th>삼성전자</th>\n",
       "      <th>SK하이닉스</th>\n",
       "      <th>삼성바이오로직스</th>\n",
       "      <th>NAVER</th>\n",
       "      <th>현대차</th>\n",
       "    </tr>\n",
       "  </thead>\n",
       "  <tbody>\n",
       "    <tr>\n",
       "      <th>0</th>\n",
       "      <td>0.084153</td>\n",
       "      <td>0.235386</td>\n",
       "      <td>0.357511</td>\n",
       "      <td>0.326851</td>\n",
       "      <td>0.067782</td>\n",
       "      <td>0.018590</td>\n",
       "      <td>0.122251</td>\n",
       "      <td>0.464526</td>\n",
       "    </tr>\n",
       "    <tr>\n",
       "      <th>1</th>\n",
       "      <td>0.218676</td>\n",
       "      <td>0.275635</td>\n",
       "      <td>0.793352</td>\n",
       "      <td>0.029906</td>\n",
       "      <td>0.405565</td>\n",
       "      <td>0.428864</td>\n",
       "      <td>0.052280</td>\n",
       "      <td>0.083386</td>\n",
       "    </tr>\n",
       "    <tr>\n",
       "      <th>2</th>\n",
       "      <td>0.175977</td>\n",
       "      <td>0.237945</td>\n",
       "      <td>0.739572</td>\n",
       "      <td>0.465853</td>\n",
       "      <td>0.131864</td>\n",
       "      <td>0.300755</td>\n",
       "      <td>0.012588</td>\n",
       "      <td>0.088940</td>\n",
       "    </tr>\n",
       "    <tr>\n",
       "      <th>3</th>\n",
       "      <td>0.157515</td>\n",
       "      <td>0.221255</td>\n",
       "      <td>0.711915</td>\n",
       "      <td>0.229299</td>\n",
       "      <td>0.196719</td>\n",
       "      <td>0.206382</td>\n",
       "      <td>0.195999</td>\n",
       "      <td>0.171601</td>\n",
       "    </tr>\n",
       "    <tr>\n",
       "      <th>4</th>\n",
       "      <td>0.118190</td>\n",
       "      <td>0.220234</td>\n",
       "      <td>0.536657</td>\n",
       "      <td>0.318390</td>\n",
       "      <td>0.155585</td>\n",
       "      <td>0.082972</td>\n",
       "      <td>0.149126</td>\n",
       "      <td>0.293928</td>\n",
       "    </tr>\n",
       "  </tbody>\n",
       "</table>\n",
       "</div>"
      ],
      "text/plain": [
       "    Returns      Risk    Sharpe      삼성전자    SK하이닉스  삼성바이오로직스     NAVER  \\\n",
       "0  0.084153  0.235386  0.357511  0.326851  0.067782  0.018590  0.122251   \n",
       "1  0.218676  0.275635  0.793352  0.029906  0.405565  0.428864  0.052280   \n",
       "2  0.175977  0.237945  0.739572  0.465853  0.131864  0.300755  0.012588   \n",
       "3  0.157515  0.221255  0.711915  0.229299  0.196719  0.206382  0.195999   \n",
       "4  0.118190  0.220234  0.536657  0.318390  0.155585  0.082972  0.149126   \n",
       "\n",
       "        현대차  \n",
       "0  0.464526  \n",
       "1  0.083386  \n",
       "2  0.088940  \n",
       "3  0.171601  \n",
       "4  0.293928  "
      ]
     },
     "execution_count": 9,
     "metadata": {},
     "output_type": "execute_result"
    }
   ],
   "source": [
    "portfolio = {'Returns': port_ret, 'Risk': port_risk, 'Sharpe': sharpe_ratio}\n",
    "for i, s in enumerate(stocks):\n",
    "    portfolio[s] = [weight[i] for weight in port_weights]\n",
    "df = pd.DataFrame(portfolio)\n",
    "df.columns = ['Returns','Risk', 'Sharpe','삼성전자', 'SK하이닉스',  '삼성바이오로직스', 'NAVER','현대차']\n",
    "df.head()"
   ]
  },
  {
   "cell_type": "markdown",
   "id": "7478a08c",
   "metadata": {
    "ExecuteTime": {
     "end_time": "2022-04-09T08:20:42.100971Z",
     "start_time": "2022-04-09T08:20:42.097900Z"
    }
   },
   "source": [
    "## Efficient Frontier"
   ]
  },
  {
   "cell_type": "code",
   "execution_count": 10,
   "id": "9000942f",
   "metadata": {
    "ExecuteTime": {
     "end_time": "2022-04-28T13:56:17.082309Z",
     "start_time": "2022-04-28T13:56:15.424859Z"
    }
   },
   "outputs": [
    {
     "name": "stderr",
     "output_type": "stream",
     "text": [
      "c:\\users\\82108\\.conda\\envs\\kaggle\\lib\\site-packages\\numpy\\core\\shape_base.py:65: VisibleDeprecationWarning: Creating an ndarray from ragged nested sequences (which is a list-or-tuple of lists-or-tuples-or ndarrays with different lengths or shapes) is deprecated. If you meant to do this, you must specify 'dtype=object' when creating the ndarray.\n",
      "  ary = asanyarray(ary)\n"
     ]
    },
    {
     "data": {
      "image/png": "[encoded data removed]",
      "text/plain": [
       "<Figure size 792x504 with 2 Axes>"
      ]
     },
     "metadata": {
      "needs_background": "light"
     },
     "output_type": "display_data"
    }
   ],
   "source": [
    "\n",
    "max_sharpe = df.loc[df['Sharpe'] == df['Sharpe'].max()]\n",
    "min_risk = df.loc[df['Risk'] == df['Risk'].min()]\n",
    "\n",
    "# plot\n",
    "\n",
    "df.plot.scatter(x='Risk', y='Returns', c='Sharpe', cmap = 'viridis', figsize = (11,7))\n",
    "plt.scatter(x = max_sharpe['Risk'], y = max_sharpe['Returns'], c = 'r',  s=50)\n",
    "plt.scatter(x = min_risk['Risk'], y = min_risk['Returns'], c = 'r', marker = 'X', s=100)\n",
    "\n",
    "plt.plot([0, max_sharpe['Risk']], [0.043, max_sharpe['Returns']],color=\"orange\")\n",
    "\n",
    "plt.title('Portfolio Optimization')\n",
    "plt.xlabel('Risk')\n",
    "plt.ylabel('Expected Returns')\n",
    "plt.show()"
   ]
  },
  {
   "cell_type": "code",
   "execution_count": 11,
   "id": "d8a757ed",
   "metadata": {
    "ExecuteTime": {
     "end_time": "2022-04-28T13:56:24.558646Z",
     "start_time": "2022-04-28T13:56:24.544520Z"
    }
   },
   "outputs": [
    {
     "data": {
      "text/html": [
       "<div>\n",
       "<style scoped>\n",
       "    .dataframe tbody tr th:only-of-type {\n",
       "        vertical-align: middle;\n",
       "    }\n",
       "\n",
       "    .dataframe tbody tr th {\n",
       "        vertical-align: top;\n",
       "    }\n",
       "\n",
       "    .dataframe thead th {\n",
       "        text-align: right;\n",
       "    }\n",
       "</style>\n",
       "<table border=\"1\" class=\"dataframe\">\n",
       "  <thead>\n",
       "    <tr style=\"text-align: right;\">\n",
       "      <th></th>\n",
       "      <th>Returns</th>\n",
       "      <th>Risk</th>\n",
       "      <th>Sharpe</th>\n",
       "      <th>삼성전자</th>\n",
       "      <th>SK하이닉스</th>\n",
       "      <th>삼성바이오로직스</th>\n",
       "      <th>NAVER</th>\n",
       "      <th>현대차</th>\n",
       "    </tr>\n",
       "  </thead>\n",
       "  <tbody>\n",
       "    <tr>\n",
       "      <th>15837</th>\n",
       "      <td>0.225478</td>\n",
       "      <td>0.268915</td>\n",
       "      <td>0.838471</td>\n",
       "      <td>0.049123</td>\n",
       "      <td>0.255936</td>\n",
       "      <td>0.445903</td>\n",
       "      <td>0.246221</td>\n",
       "      <td>0.002817</td>\n",
       "    </tr>\n",
       "  </tbody>\n",
       "</table>\n",
       "</div>"
      ],
      "text/plain": [
       "        Returns      Risk    Sharpe      삼성전자    SK하이닉스  삼성바이오로직스     NAVER  \\\n",
       "15837  0.225478  0.268915  0.838471  0.049123  0.255936  0.445903  0.246221   \n",
       "\n",
       "            현대차  \n",
       "15837  0.002817  "
      ]
     },
     "execution_count": 11,
     "metadata": {},
     "output_type": "execute_result"
    }
   ],
   "source": [
    "max_sharpe"
   ]
  },
  {
   "cell_type": "markdown",
   "id": "9f4ee88e",
   "metadata": {},
   "source": [
    "## 주식 종목의 수가 늘어난다면?"
   ]
  },
  {
   "cell_type": "code",
   "execution_count": 12,
   "id": "309c1dda",
   "metadata": {
    "ExecuteTime": {
     "end_time": "2022-04-28T13:56:52.679035Z",
     "start_time": "2022-04-28T13:56:52.339113Z"
    }
   },
   "outputs": [],
   "source": [
    "df = pd.DataFrame()\n",
    "for s in stocks: \n",
    "    df[s] = stock.get_market_ohlcv_by_date(\"20170101\", \"20211231\", s)['종가'] #약 5년간데이터\n",
    "df.columns = ['삼성전자', 'SK하이닉스',  '삼성바이오로직스', 'NAVER','현대차']"
   ]
  },
  {
   "cell_type": "code",
   "execution_count": 13,
   "id": "2976bf2d",
   "metadata": {
    "ExecuteTime": {
     "end_time": "2022-04-28T13:57:00.602758Z",
     "start_time": "2022-04-28T13:57:00.589182Z"
    }
   },
   "outputs": [],
   "source": [
    "daily_ret = np.log(df/df.shift(1))        #일간수익률\n",
    "annual_ret = daily_ret.mean() * 252 #연간수익률 #252는 주식시장이 여는 총 252일을 뜻한다.\n",
    "\n",
    "df = daily_ret"
   ]
  },
  {
   "cell_type": "code",
   "execution_count": 14,
   "id": "47927cc6",
   "metadata": {
    "ExecuteTime": {
     "end_time": "2022-04-28T13:57:08.782971Z",
     "start_time": "2022-04-28T13:57:08.768541Z"
    }
   },
   "outputs": [],
   "source": [
    "df = df.dropna()"
   ]
  },
  {
   "cell_type": "code",
   "execution_count": 15,
   "id": "3cc1ee15",
   "metadata": {
    "ExecuteTime": {
     "end_time": "2022-04-28T13:57:18.374759Z",
     "start_time": "2022-04-28T13:57:16.646421Z"
    }
   },
   "outputs": [],
   "source": [
    "# 주성분(pca)방법을 이용한다.\n",
    "\n",
    "from sklearn.decomposition import PCA\n",
    "\n",
    "def fit_pca(returns, num_factor_exposures, svd_solver):\n",
    "    \n",
    "    pca = PCA(n_components=num_factor_exposures, svd_solver=svd_solver)\n",
    "    pca.fit(returns)\n",
    "    \n",
    "    return pca\n",
    "\n",
    "num_factor_exposures=3\n",
    "svd_solver='full'\n",
    "\n",
    "pca = fit_pca(df, num_factor_exposures, svd_solver)"
   ]
  },
  {
   "cell_type": "code",
   "execution_count": 16,
   "id": "72f38837",
   "metadata": {
    "ExecuteTime": {
     "end_time": "2022-04-28T13:57:26.043867Z",
     "start_time": "2022-04-28T13:57:25.922257Z"
    }
   },
   "outputs": [
    {
     "name": "stdout",
     "output_type": "stream",
     "text": [
      "3개의 Risk Factor에 의해 설명되는 데이터의 분산 : 81.82773964287495%\n"
     ]
    },
    {
     "data": {
      "image/png": "[encoded data removed]",
      "text/plain": [
       "<Figure size 432x288 with 1 Axes>"
      ]
     },
     "metadata": {
      "needs_background": "light"
     },
     "output_type": "display_data"
    }
   ],
   "source": [
    "plt.bar(np.arange(num_factor_exposures), pca.explained_variance_ratio_);\n",
    "print(f'{num_factor_exposures}개의 Risk Factor에 의해 설명되는 데이터의 분산 : {sum(pca.explained_variance_ratio_)*100}%')"
   ]
  },
  {
   "cell_type": "code",
   "execution_count": 17,
   "id": "e76d757d",
   "metadata": {
    "ExecuteTime": {
     "end_time": "2022-04-28T13:58:17.206323Z",
     "start_time": "2022-04-28T13:58:17.194190Z"
    }
   },
   "outputs": [
    {
     "data": {
      "text/html": [
       "<div>\n",
       "<style scoped>\n",
       "    .dataframe tbody tr th:only-of-type {\n",
       "        vertical-align: middle;\n",
       "    }\n",
       "\n",
       "    .dataframe tbody tr th {\n",
       "        vertical-align: top;\n",
       "    }\n",
       "\n",
       "    .dataframe thead th {\n",
       "        text-align: right;\n",
       "    }\n",
       "</style>\n",
       "<table border=\"1\" class=\"dataframe\">\n",
       "  <thead>\n",
       "    <tr style=\"text-align: right;\">\n",
       "      <th></th>\n",
       "      <th>0</th>\n",
       "      <th>1</th>\n",
       "      <th>2</th>\n",
       "    </tr>\n",
       "  </thead>\n",
       "  <tbody>\n",
       "    <tr>\n",
       "      <th>삼성전자</th>\n",
       "      <td>0.350974</td>\n",
       "      <td>0.278114</td>\n",
       "      <td>-0.191055</td>\n",
       "    </tr>\n",
       "    <tr>\n",
       "      <th>SK하이닉스</th>\n",
       "      <td>0.494274</td>\n",
       "      <td>0.477693</td>\n",
       "      <td>-0.543180</td>\n",
       "    </tr>\n",
       "    <tr>\n",
       "      <th>삼성바이오로직스</th>\n",
       "      <td>0.620686</td>\n",
       "      <td>-0.776530</td>\n",
       "      <td>-0.087531</td>\n",
       "    </tr>\n",
       "    <tr>\n",
       "      <th>NAVER</th>\n",
       "      <td>0.341238</td>\n",
       "      <td>0.167772</td>\n",
       "      <td>0.381912</td>\n",
       "    </tr>\n",
       "    <tr>\n",
       "      <th>현대차</th>\n",
       "      <td>0.361685</td>\n",
       "      <td>0.251626</td>\n",
       "      <td>0.717589</td>\n",
       "    </tr>\n",
       "  </tbody>\n",
       "</table>\n",
       "</div>"
      ],
      "text/plain": [
       "                 0         1         2\n",
       "삼성전자      0.350974  0.278114 -0.191055\n",
       "SK하이닉스    0.494274  0.477693 -0.543180\n",
       "삼성바이오로직스  0.620686 -0.776530 -0.087531\n",
       "NAVER     0.341238  0.167772  0.381912\n",
       "현대차       0.361685  0.251626  0.717589"
      ]
     },
     "execution_count": 17,
     "metadata": {},
     "output_type": "execute_result"
    }
   ],
   "source": [
    "factor_L = pd.DataFrame(pca.components_.T, index=df.columns, columns=np.arange(num_factor_exposures))\n",
    "factor_L"
   ]
  },
  {
   "cell_type": "code",
   "execution_count": 18,
   "id": "46c88973",
   "metadata": {
    "ExecuteTime": {
     "end_time": "2022-04-28T13:58:40.387166Z",
     "start_time": "2022-04-28T13:58:40.359111Z"
    }
   },
   "outputs": [
    {
     "data": {
      "text/html": [
       "<div>\n",
       "<style scoped>\n",
       "    .dataframe tbody tr th:only-of-type {\n",
       "        vertical-align: middle;\n",
       "    }\n",
       "\n",
       "    .dataframe tbody tr th {\n",
       "        vertical-align: top;\n",
       "    }\n",
       "\n",
       "    .dataframe thead th {\n",
       "        text-align: right;\n",
       "    }\n",
       "</style>\n",
       "<table border=\"1\" class=\"dataframe\">\n",
       "  <thead>\n",
       "    <tr style=\"text-align: right;\">\n",
       "      <th></th>\n",
       "      <th>0</th>\n",
       "      <th>1</th>\n",
       "      <th>2</th>\n",
       "    </tr>\n",
       "    <tr>\n",
       "      <th>날짜</th>\n",
       "      <th></th>\n",
       "      <th></th>\n",
       "      <th></th>\n",
       "    </tr>\n",
       "  </thead>\n",
       "  <tbody>\n",
       "    <tr>\n",
       "      <th>2017-01-03</th>\n",
       "      <td>0.025871</td>\n",
       "      <td>0.013535</td>\n",
       "      <td>-0.010263</td>\n",
       "    </tr>\n",
       "    <tr>\n",
       "      <th>2017-01-04</th>\n",
       "      <td>-0.005808</td>\n",
       "      <td>0.018428</td>\n",
       "      <td>0.038084</td>\n",
       "    </tr>\n",
       "    <tr>\n",
       "      <th>2017-01-05</th>\n",
       "      <td>-0.000327</td>\n",
       "      <td>-0.019454</td>\n",
       "      <td>-0.014878</td>\n",
       "    </tr>\n",
       "    <tr>\n",
       "      <th>2017-01-06</th>\n",
       "      <td>0.012812</td>\n",
       "      <td>0.013417</td>\n",
       "      <td>-0.023123</td>\n",
       "    </tr>\n",
       "    <tr>\n",
       "      <th>2017-01-09</th>\n",
       "      <td>0.001801</td>\n",
       "      <td>0.033092</td>\n",
       "      <td>-0.032708</td>\n",
       "    </tr>\n",
       "    <tr>\n",
       "      <th>...</th>\n",
       "      <td>...</td>\n",
       "      <td>...</td>\n",
       "      <td>...</td>\n",
       "    </tr>\n",
       "    <tr>\n",
       "      <th>2021-12-24</th>\n",
       "      <td>0.011469</td>\n",
       "      <td>0.024227</td>\n",
       "      <td>0.025758</td>\n",
       "    </tr>\n",
       "    <tr>\n",
       "      <th>2021-12-27</th>\n",
       "      <td>-0.016765</td>\n",
       "      <td>-0.012986</td>\n",
       "      <td>-0.000779</td>\n",
       "    </tr>\n",
       "    <tr>\n",
       "      <th>2021-12-28</th>\n",
       "      <td>0.012319</td>\n",
       "      <td>0.004308</td>\n",
       "      <td>-0.001246</td>\n",
       "    </tr>\n",
       "    <tr>\n",
       "      <th>2021-12-29</th>\n",
       "      <td>-0.016754</td>\n",
       "      <td>-0.009372</td>\n",
       "      <td>-0.003154</td>\n",
       "    </tr>\n",
       "    <tr>\n",
       "      <th>2021-12-30</th>\n",
       "      <td>0.011924</td>\n",
       "      <td>-0.003013</td>\n",
       "      <td>-0.030400</td>\n",
       "    </tr>\n",
       "  </tbody>\n",
       "</table>\n",
       "<p>1228 rows × 3 columns</p>\n",
       "</div>"
      ],
      "text/plain": [
       "                   0         1         2\n",
       "날짜                                      \n",
       "2017-01-03  0.025871  0.013535 -0.010263\n",
       "2017-01-04 -0.005808  0.018428  0.038084\n",
       "2017-01-05 -0.000327 -0.019454 -0.014878\n",
       "2017-01-06  0.012812  0.013417 -0.023123\n",
       "2017-01-09  0.001801  0.033092 -0.032708\n",
       "...              ...       ...       ...\n",
       "2021-12-24  0.011469  0.024227  0.025758\n",
       "2021-12-27 -0.016765 -0.012986 -0.000779\n",
       "2021-12-28  0.012319  0.004308 -0.001246\n",
       "2021-12-29 -0.016754 -0.009372 -0.003154\n",
       "2021-12-30  0.011924 -0.003013 -0.030400\n",
       "\n",
       "[1228 rows x 3 columns]"
      ]
     },
     "execution_count": 18,
     "metadata": {},
     "output_type": "execute_result"
    }
   ],
   "source": [
    "factor_F = pd.DataFrame(pca.transform(df), index=df.index, columns=np.arange(num_factor_exposures))\n",
    "factor_F"
   ]
  },
  {
   "cell_type": "code",
   "execution_count": 19,
   "id": "cc13ea35",
   "metadata": {
    "ExecuteTime": {
     "end_time": "2022-04-28T13:58:48.579527Z",
     "start_time": "2022-04-28T13:58:48.550013Z"
    }
   },
   "outputs": [
    {
     "data": {
      "text/html": [
       "<div>\n",
       "<style scoped>\n",
       "    .dataframe tbody tr th:only-of-type {\n",
       "        vertical-align: middle;\n",
       "    }\n",
       "\n",
       "    .dataframe tbody tr th {\n",
       "        vertical-align: top;\n",
       "    }\n",
       "\n",
       "    .dataframe thead th {\n",
       "        text-align: right;\n",
       "    }\n",
       "</style>\n",
       "<table border=\"1\" class=\"dataframe\">\n",
       "  <thead>\n",
       "    <tr style=\"text-align: right;\">\n",
       "      <th></th>\n",
       "      <th>삼성전자</th>\n",
       "      <th>SK하이닉스</th>\n",
       "      <th>삼성바이오로직스</th>\n",
       "      <th>NAVER</th>\n",
       "      <th>현대차</th>\n",
       "    </tr>\n",
       "  </thead>\n",
       "  <tbody>\n",
       "    <tr>\n",
       "      <th>삼성전자</th>\n",
       "      <td>0.000083</td>\n",
       "      <td>0.000000</td>\n",
       "      <td>0.000000</td>\n",
       "      <td>0.000000</td>\n",
       "      <td>0.000000</td>\n",
       "    </tr>\n",
       "    <tr>\n",
       "      <th>SK하이닉스</th>\n",
       "      <td>0.000000</td>\n",
       "      <td>0.000027</td>\n",
       "      <td>0.000000</td>\n",
       "      <td>0.000000</td>\n",
       "      <td>0.000000</td>\n",
       "    </tr>\n",
       "    <tr>\n",
       "      <th>삼성바이오로직스</th>\n",
       "      <td>0.000000</td>\n",
       "      <td>0.000000</td>\n",
       "      <td>0.000001</td>\n",
       "      <td>0.000000</td>\n",
       "      <td>0.000000</td>\n",
       "    </tr>\n",
       "    <tr>\n",
       "      <th>NAVER</th>\n",
       "      <td>0.000000</td>\n",
       "      <td>0.000000</td>\n",
       "      <td>0.000000</td>\n",
       "      <td>0.000242</td>\n",
       "      <td>0.000000</td>\n",
       "    </tr>\n",
       "    <tr>\n",
       "      <th>현대차</th>\n",
       "      <td>0.000000</td>\n",
       "      <td>0.000000</td>\n",
       "      <td>0.000000</td>\n",
       "      <td>0.000000</td>\n",
       "      <td>0.000097</td>\n",
       "    </tr>\n",
       "  </tbody>\n",
       "</table>\n",
       "</div>"
      ],
      "text/plain": [
       "              삼성전자    SK하이닉스  삼성바이오로직스     NAVER       현대차\n",
       "삼성전자      0.000083  0.000000  0.000000  0.000000  0.000000\n",
       "SK하이닉스    0.000000  0.000027  0.000000  0.000000  0.000000\n",
       "삼성바이오로직스  0.000000  0.000000  0.000001  0.000000  0.000000\n",
       "NAVER     0.000000  0.000000  0.000000  0.000242  0.000000\n",
       "현대차       0.000000  0.000000  0.000000  0.000000  0.000097"
      ]
     },
     "execution_count": 19,
     "metadata": {},
     "output_type": "execute_result"
    }
   ],
   "source": [
    "common_returns = pd.DataFrame(np.dot(factor_F, factor_L.T), index=df.index, columns=df.columns)\n",
    "specific_returns = df - common_returns\n",
    "\n",
    "# diagonal을 취하는 이유 -> 행렬 계산을 위해\n",
    "idiosyncratic_var_matrix = pd.DataFrame(np.diag(np.var(specific_returns)), index=df.columns, columns=df.columns)\n",
    "idiosyncratic_var_matrix"
   ]
  },
  {
   "cell_type": "code",
   "execution_count": 20,
   "id": "cbba9c09",
   "metadata": {
    "ExecuteTime": {
     "end_time": "2022-04-28T13:59:35.272610Z",
     "start_time": "2022-04-28T13:59:35.249442Z"
    }
   },
   "outputs": [
    {
     "data": {
      "text/plain": [
       "array([[ 1.00286582e-03,  6.35499757e-19, -3.42491249e-19],\n",
       "       [ 6.35499757e-19,  6.29734650e-04,  1.14870646e-19],\n",
       "       [-3.42491249e-19,  1.14870646e-19,  3.96910848e-04]])"
      ]
     },
     "execution_count": 20,
     "metadata": {},
     "output_type": "execute_result"
    }
   ],
   "source": [
    "factor_covariance_matrix = np.cov(factor_F.T)\n",
    "factor_covariance_matrix"
   ]
  },
  {
   "cell_type": "code",
   "execution_count": 22,
   "id": "9f566cd5",
   "metadata": {
    "ExecuteTime": {
     "end_time": "2022-04-28T14:00:24.807106Z",
     "start_time": "2022-04-28T14:00:24.795774Z"
    }
   },
   "outputs": [
    {
     "data": {
      "text/html": [
       "<div>\n",
       "<style scoped>\n",
       "    .dataframe tbody tr th:only-of-type {\n",
       "        vertical-align: middle;\n",
       "    }\n",
       "\n",
       "    .dataframe tbody tr th {\n",
       "        vertical-align: top;\n",
       "    }\n",
       "\n",
       "    .dataframe thead th {\n",
       "        text-align: right;\n",
       "    }\n",
       "</style>\n",
       "<table border=\"1\" class=\"dataframe\">\n",
       "  <thead>\n",
       "    <tr style=\"text-align: right;\">\n",
       "      <th></th>\n",
       "      <th>삼성전자</th>\n",
       "      <th>SK하이닉스</th>\n",
       "      <th>삼성바이오로직스</th>\n",
       "      <th>NAVER</th>\n",
       "      <th>현대차</th>\n",
       "    </tr>\n",
       "  </thead>\n",
       "  <tbody>\n",
       "    <tr>\n",
       "      <th>삼성전자</th>\n",
       "      <td>0.000269</td>\n",
       "      <td>0.000299</td>\n",
       "      <td>0.000089</td>\n",
       "      <td>0.000121</td>\n",
       "      <td>0.000117</td>\n",
       "    </tr>\n",
       "    <tr>\n",
       "      <th>SK하이닉스</th>\n",
       "      <td>0.000299</td>\n",
       "      <td>0.000532</td>\n",
       "      <td>0.000093</td>\n",
       "      <td>0.000137</td>\n",
       "      <td>0.000100</td>\n",
       "    </tr>\n",
       "    <tr>\n",
       "      <th>삼성바이오로직스</th>\n",
       "      <td>0.000089</td>\n",
       "      <td>0.000093</td>\n",
       "      <td>0.000770</td>\n",
       "      <td>0.000117</td>\n",
       "      <td>0.000077</td>\n",
       "    </tr>\n",
       "    <tr>\n",
       "      <th>NAVER</th>\n",
       "      <td>0.000121</td>\n",
       "      <td>0.000137</td>\n",
       "      <td>0.000117</td>\n",
       "      <td>0.000435</td>\n",
       "      <td>0.000259</td>\n",
       "    </tr>\n",
       "    <tr>\n",
       "      <th>현대차</th>\n",
       "      <td>0.000117</td>\n",
       "      <td>0.000100</td>\n",
       "      <td>0.000077</td>\n",
       "      <td>0.000259</td>\n",
       "      <td>0.000473</td>\n",
       "    </tr>\n",
       "  </tbody>\n",
       "</table>\n",
       "</div>"
      ],
      "text/plain": [
       "              삼성전자    SK하이닉스  삼성바이오로직스     NAVER       현대차\n",
       "삼성전자      0.000269  0.000299  0.000089  0.000121  0.000117\n",
       "SK하이닉스    0.000299  0.000532  0.000093  0.000137  0.000100\n",
       "삼성바이오로직스  0.000089  0.000093  0.000770  0.000117  0.000077\n",
       "NAVER     0.000121  0.000137  0.000117  0.000435  0.000259\n",
       "현대차       0.000117  0.000100  0.000077  0.000259  0.000473"
      ]
     },
     "execution_count": 22,
     "metadata": {},
     "output_type": "execute_result"
    }
   ],
   "source": [
    "L = factor_L\n",
    "F = factor_covariance_matrix\n",
    "S = idiosyncratic_var_matrix\n",
    "\n",
    "portfolio_covariance = L.dot(F).dot(L.T) + S\n",
    "portfolio_covariance"
   ]
  },
  {
   "cell_type": "code",
   "execution_count": 23,
   "id": "96bb7b86",
   "metadata": {
    "ExecuteTime": {
     "end_time": "2022-04-28T14:00:32.916240Z",
     "start_time": "2022-04-28T14:00:32.901894Z"
    }
   },
   "outputs": [],
   "source": [
    "daily_cov = portfolio_covariance        #일간변동률의 공분산\n",
    "annual_cov = daily_cov * 252        #연간공분산"
   ]
  },
  {
   "cell_type": "code",
   "execution_count": 42,
   "id": "d49d2adb",
   "metadata": {
    "ExecuteTime": {
     "end_time": "2022-04-28T14:13:38.272001Z",
     "start_time": "2022-04-28T14:13:37.066241Z"
    }
   },
   "outputs": [
    {
     "name": "stdout",
     "output_type": "stream",
     "text": [
      "[0.12428409 0.19227872 0.08001587 0.46573705 0.13768427]\n",
      "[0.06451824 0.39377115 0.06821192 0.08383399 0.3896647 ]\n",
      "[0.22022884 0.20719795 0.26763974 0.09980642 0.20512705]\n",
      "[0.36858794 0.1409314  0.08678252 0.23725125 0.16644688]\n",
      "[0.50019129 0.22063696 0.08766132 0.17195217 0.01955827]\n"
     ]
    }
   ],
   "source": [
    "port_ret = []\n",
    "port_risk = []\n",
    "port_weights = []\n",
    "sharpe_ratio = []\n",
    "\n",
    "for _ in range(20000): #총 2만회 반복\n",
    "    weights = np.random.random(len(stocks)) #각 주식당 0~1사이의 가중치(W)를 랜덤하게 배정\n",
    "    weights /= np.sum(weights) \n",
    "    \n",
    "    if _ < 5 :\n",
    "        print(weights)\n",
    "    \n",
    "    #log(1.02)*5 연 2%정기예금을 무위험수익으로 생각 : 0.043\n",
    "    \n",
    "    returns = np.dot(weights, annual_ret)-0.043 #개별 주식의 연간수익률과 가중치를 점곱 == 수익률\n",
    "    risk = np.sqrt(np.dot(weights.T, np.dot(annual_cov, weights))) #리스크 == wCw 형태\n",
    "    \n",
    "    sharpe = returns / risk #샤프ratio\n",
    "    \n",
    "    port_ret.append(returns) #각 가중치당 포트폴리오의 리턴\n",
    "    port_risk.append(risk)   #각 가중치당 포트폴리오의 리스크\n",
    "    port_weights.append(weights)\n",
    "    sharpe_ratio.append(returns/risk) #각 가중치당 포트폴리오의 샤프지수\n",
    "\n",
    "    \n"
   ]
  },
  {
   "cell_type": "code",
   "execution_count": 43,
   "id": "ad33b1db",
   "metadata": {
    "ExecuteTime": {
     "end_time": "2022-04-28T14:13:46.591922Z",
     "start_time": "2022-04-28T14:13:46.501671Z"
    }
   },
   "outputs": [
    {
     "data": {
      "text/html": [
       "<div>\n",
       "<style scoped>\n",
       "    .dataframe tbody tr th:only-of-type {\n",
       "        vertical-align: middle;\n",
       "    }\n",
       "\n",
       "    .dataframe tbody tr th {\n",
       "        vertical-align: top;\n",
       "    }\n",
       "\n",
       "    .dataframe thead th {\n",
       "        text-align: right;\n",
       "    }\n",
       "</style>\n",
       "<table border=\"1\" class=\"dataframe\">\n",
       "  <thead>\n",
       "    <tr style=\"text-align: right;\">\n",
       "      <th></th>\n",
       "      <th>Returns</th>\n",
       "      <th>Risk</th>\n",
       "      <th>Sharpe</th>\n",
       "      <th>삼성전자</th>\n",
       "      <th>SK하이닉스</th>\n",
       "      <th>삼성바이오로직스</th>\n",
       "      <th>NAVER</th>\n",
       "      <th>현대차</th>\n",
       "    </tr>\n",
       "  </thead>\n",
       "  <tbody>\n",
       "    <tr>\n",
       "      <th>0</th>\n",
       "      <td>0.141312</td>\n",
       "      <td>0.247200</td>\n",
       "      <td>0.571649</td>\n",
       "      <td>0.124284</td>\n",
       "      <td>0.192279</td>\n",
       "      <td>0.080016</td>\n",
       "      <td>0.465737</td>\n",
       "      <td>0.137684</td>\n",
       "    </tr>\n",
       "    <tr>\n",
       "      <th>1</th>\n",
       "      <td>0.118520</td>\n",
       "      <td>0.252223</td>\n",
       "      <td>0.469902</td>\n",
       "      <td>0.064518</td>\n",
       "      <td>0.393771</td>\n",
       "      <td>0.068212</td>\n",
       "      <td>0.083834</td>\n",
       "      <td>0.389665</td>\n",
       "    </tr>\n",
       "    <tr>\n",
       "      <th>2</th>\n",
       "      <td>0.165104</td>\n",
       "      <td>0.234826</td>\n",
       "      <td>0.703089</td>\n",
       "      <td>0.220229</td>\n",
       "      <td>0.207198</td>\n",
       "      <td>0.267640</td>\n",
       "      <td>0.099806</td>\n",
       "      <td>0.205127</td>\n",
       "    </tr>\n",
       "    <tr>\n",
       "      <th>3</th>\n",
       "      <td>0.131772</td>\n",
       "      <td>0.228071</td>\n",
       "      <td>0.577768</td>\n",
       "      <td>0.368588</td>\n",
       "      <td>0.140931</td>\n",
       "      <td>0.086783</td>\n",
       "      <td>0.237251</td>\n",
       "      <td>0.166447</td>\n",
       "    </tr>\n",
       "    <tr>\n",
       "      <th>4</th>\n",
       "      <td>0.148279</td>\n",
       "      <td>0.240490</td>\n",
       "      <td>0.616571</td>\n",
       "      <td>0.500191</td>\n",
       "      <td>0.220637</td>\n",
       "      <td>0.087661</td>\n",
       "      <td>0.171952</td>\n",
       "      <td>0.019558</td>\n",
       "    </tr>\n",
       "  </tbody>\n",
       "</table>\n",
       "</div>"
      ],
      "text/plain": [
       "    Returns      Risk    Sharpe      삼성전자    SK하이닉스  삼성바이오로직스     NAVER  \\\n",
       "0  0.141312  0.247200  0.571649  0.124284  0.192279  0.080016  0.465737   \n",
       "1  0.118520  0.252223  0.469902  0.064518  0.393771  0.068212  0.083834   \n",
       "2  0.165104  0.234826  0.703089  0.220229  0.207198  0.267640  0.099806   \n",
       "3  0.131772  0.228071  0.577768  0.368588  0.140931  0.086783  0.237251   \n",
       "4  0.148279  0.240490  0.616571  0.500191  0.220637  0.087661  0.171952   \n",
       "\n",
       "        현대차  \n",
       "0  0.137684  \n",
       "1  0.389665  \n",
       "2  0.205127  \n",
       "3  0.166447  \n",
       "4  0.019558  "
      ]
     },
     "execution_count": 43,
     "metadata": {},
     "output_type": "execute_result"
    }
   ],
   "source": [
    "portfolio = {'Returns': port_ret, 'Risk': port_risk, 'Sharpe': sharpe_ratio}\n",
    "for i, s in enumerate(stocks):\n",
    "    portfolio[s] = [weight[i] for weight in port_weights]\n",
    "df = pd.DataFrame(portfolio)\n",
    "df.columns = ['Returns','Risk', 'Sharpe','삼성전자', 'SK하이닉스',  '삼성바이오로직스', 'NAVER','현대차']\n",
    "df.head()"
   ]
  },
  {
   "cell_type": "code",
   "execution_count": 44,
   "id": "b921efd8",
   "metadata": {
    "ExecuteTime": {
     "end_time": "2022-04-28T14:13:54.622122Z",
     "start_time": "2022-04-28T14:13:54.189843Z"
    }
   },
   "outputs": [
    {
     "name": "stderr",
     "output_type": "stream",
     "text": [
      "c:\\users\\82108\\.conda\\envs\\kaggle\\lib\\site-packages\\numpy\\core\\shape_base.py:65: VisibleDeprecationWarning: Creating an ndarray from ragged nested sequences (which is a list-or-tuple of lists-or-tuples-or ndarrays with different lengths or shapes) is deprecated. If you meant to do this, you must specify 'dtype=object' when creating the ndarray.\n",
      "  ary = asanyarray(ary)\n"
     ]
    },
    {
     "data": {
      "image/png": "[encoded data removed]",
      "text/plain": [
       "<Figure size 792x504 with 2 Axes>"
      ]
     },
     "metadata": {
      "needs_background": "light"
     },
     "output_type": "display_data"
    }
   ],
   "source": [
    "max_sharpe = df.loc[df['Sharpe'] == df['Sharpe'].max()]\n",
    "min_risk = df.loc[df['Risk'] == df['Risk'].min()]\n",
    "\n",
    "# plot\n",
    "\n",
    "df.plot.scatter(x='Risk', y='Returns', c='Sharpe', cmap = 'viridis', figsize = (11,7))\n",
    "plt.scatter(x = max_sharpe['Risk'], y = max_sharpe['Returns'], c = 'r',  s=50)\n",
    "plt.scatter(x = min_risk['Risk'], y = min_risk['Returns'], c = 'r', marker = 'X', s=100)\n",
    "\n",
    "plt.plot([0, max_sharpe['Risk']], [0.043,  max_sharpe['Returns']],color=\"orange\")\n",
    "\n",
    "plt.title('Portfolio Optimization')\n",
    "plt.xlabel('Risk')\n",
    "plt.ylabel('Expected Returns')\n",
    "plt.show()"
   ]
  },
  {
   "cell_type": "code",
   "execution_count": 45,
   "id": "3c12ca8f",
   "metadata": {
    "ExecuteTime": {
     "end_time": "2022-04-28T14:14:02.398618Z",
     "start_time": "2022-04-28T14:14:02.370631Z"
    }
   },
   "outputs": [
    {
     "data": {
      "text/html": [
       "<div>\n",
       "<style scoped>\n",
       "    .dataframe tbody tr th:only-of-type {\n",
       "        vertical-align: middle;\n",
       "    }\n",
       "\n",
       "    .dataframe tbody tr th {\n",
       "        vertical-align: top;\n",
       "    }\n",
       "\n",
       "    .dataframe thead th {\n",
       "        text-align: right;\n",
       "    }\n",
       "</style>\n",
       "<table border=\"1\" class=\"dataframe\">\n",
       "  <thead>\n",
       "    <tr style=\"text-align: right;\">\n",
       "      <th></th>\n",
       "      <th>Returns</th>\n",
       "      <th>Risk</th>\n",
       "      <th>Sharpe</th>\n",
       "      <th>삼성전자</th>\n",
       "      <th>SK하이닉스</th>\n",
       "      <th>삼성바이오로직스</th>\n",
       "      <th>NAVER</th>\n",
       "      <th>현대차</th>\n",
       "    </tr>\n",
       "  </thead>\n",
       "  <tbody>\n",
       "    <tr>\n",
       "      <th>13632</th>\n",
       "      <td>0.231441</td>\n",
       "      <td>0.279133</td>\n",
       "      <td>0.829141</td>\n",
       "      <td>0.054505</td>\n",
       "      <td>0.269577</td>\n",
       "      <td>0.478999</td>\n",
       "      <td>0.192077</td>\n",
       "      <td>0.004842</td>\n",
       "    </tr>\n",
       "  </tbody>\n",
       "</table>\n",
       "</div>"
      ],
      "text/plain": [
       "        Returns      Risk    Sharpe      삼성전자    SK하이닉스  삼성바이오로직스     NAVER  \\\n",
       "13632  0.231441  0.279133  0.829141  0.054505  0.269577  0.478999  0.192077   \n",
       "\n",
       "            현대차  \n",
       "13632  0.004842  "
      ]
     },
     "execution_count": 45,
     "metadata": {},
     "output_type": "execute_result"
    }
   ],
   "source": [
    "max_sharpe"
   ]
  },
  {
   "cell_type": "code",
   "execution_count": null,
   "id": "b9699809",
   "metadata": {},
   "outputs": [],
   "source": []
  }
 ],
 "metadata": {
  "kernelspec": {
   "display_name": "Python 3 (ipykernel)",
   "language": "python",
   "name": "python3"
  },
  "language_info": {
   "codemirror_mode": {
    "name": "ipython",
    "version": 3
   },
   "file_extension": ".py",
   "mimetype": "text/x-python",
   "name": "python",
   "nbconvert_exporter": "python",
   "pygments_lexer": "ipython3",
   "version": "3.8.11"
  },
  "toc": {
   "base_numbering": 1,
   "nav_menu": {},
   "number_sections": true,
   "sideBar": true,
   "skip_h1_title": false,
   "title_cell": "Table of Contents",
   "title_sidebar": "Contents",
   "toc_cell": false,
   "toc_position": {},
   "toc_section_display": true,
   "toc_window_display": false
  },
  "varInspector": {
   "cols": {
    "lenName": 16,
    "lenType": 16,
    "lenVar": 40
   },
   "kernels_config": {
    "python": {
     "delete_cmd_postfix": "",
     "delete_cmd_prefix": "del ",
     "library": "var_list.py",
     "varRefreshCmd": "print(var_dic_list())"
    },
    "r": {
     "delete_cmd_postfix": ") ",
     "delete_cmd_prefix": "rm(",
     "library": "var_list.r",
     "varRefreshCmd": "cat(var_dic_list()) "
    }
   },
   "types_to_exclude": [
    "module",
    "function",
    "builtin_function_or_method",
    "instance",
    "_Feature"
   ],
   "window_display": false
  }
 },
 "nbformat": 4,
 "nbformat_minor": 5
}
